{
 "cells": [
  {
   "cell_type": "code",
   "execution_count": 1,
   "metadata": {},
   "outputs": [],
   "source": [
    "import pandas as pd\n",
    "import numpy as np\n",
    "import plotly.express as px"
   ]
  },
  {
   "cell_type": "code",
   "execution_count": 2,
   "metadata": {},
   "outputs": [],
   "source": [
    "pd.options.plotting.backend = \"plotly\""
   ]
  },
  {
   "cell_type": "code",
   "execution_count": null,
   "metadata": {},
   "outputs": [],
   "source": [
    "iris_df = px.data.iris()\n",
    "iris_df"
   ]
  },
  {
   "cell_type": "code",
   "execution_count": 5,
   "metadata": {},
   "outputs": [],
   "source": [
    "from sklearn.preprocessing import StandardScaler\n",
    "from sklearn.decomposition import PCA, KernelPCA\n",
    "from sklearn.discriminant_analysis import LinearDiscriminantAnalysis\n",
    "from sklearn.manifold import TSNE"
   ]
  },
  {
   "cell_type": "code",
   "execution_count": null,
   "metadata": {},
   "outputs": [],
   "source": [
    "X = iris_df.drop(columns=[\"species\", \"species_id\"])\n",
    "X"
   ]
  },
  {
   "cell_type": "code",
   "execution_count": 11,
   "metadata": {},
   "outputs": [],
   "source": [
    "np.set_printoptions(precision=2, suppress=True)"
   ]
  },
  {
   "cell_type": "code",
   "execution_count": null,
   "metadata": {},
   "outputs": [],
   "source": [
    "scaler = StandardScaler()\n",
    "pca = PCA(n_components=2)\n",
    "X_scaled = scaler.fit_transform(X)\n",
    "X_pca = pca.fit_transform(X_scaled)\n",
    "X_pca = pd.DataFrame(X_pca, columns=[\"pc1\", \"pc2\"])\n",
    "X_pca = pd.concat([X_pca, iris_df[\"species\"]], axis=1)\n",
    "X_pca.plot.scatter(x=\"pc1\", y=\"pc2\", color=\"species\", title=\"PCA\")"
   ]
  },
  {
   "cell_type": "code",
   "execution_count": null,
   "metadata": {},
   "outputs": [],
   "source": [
    "from sklearn.pipeline import Pipeline\n",
    "\n",
    "dr = Pipeline(steps=[\n",
    "    (\"scaler\", StandardScaler()),\n",
    "    (\"pca\", KernelPCA(n_components=3))\n",
    "])\n",
    "X_dr = dr.fit_transform(X)\n",
    "X_dr = pd.DataFrame(X_dr, columns=[\"pc1\", \"pc2\", \"pc3\"])\n",
    "X_dr = pd.concat([X_dr, iris_df[\"species\"]], axis=1)\n",
    "px.scatter_3d(X_dr, x=\"pc1\", y=\"pc2\", z=\"pc3\", color=\"species\", title=\"Kernel PCA\")"
   ]
  },
  {
   "cell_type": "code",
   "execution_count": null,
   "metadata": {},
   "outputs": [],
   "source": [
    "dr2 = Pipeline(steps=[\n",
    "    (\"scaler\", StandardScaler()),\n",
    "    (\"lda\", LinearDiscriminantAnalysis(n_components=2))\n",
    "])\n",
    "X_dr2 = dr2.fit_transform(X, iris_df[\"species_id\"])\n",
    "X_dr2 = pd.DataFrame(X_dr2, columns=[\"lda1\", \"lda2\"])\n",
    "X_dr2 = pd.concat([X_dr2, iris_df[\"species\"]], axis=1)\n",
    "X_dr2.plot.scatter(x=\"lda1\", y=\"lda2\", color=\"species\", title=\"LDA\")"
   ]
  },
  {
   "cell_type": "code",
   "execution_count": null,
   "metadata": {},
   "outputs": [],
   "source": [
    "dr3 = Pipeline(steps=[\n",
    "    (\"scaler\", StandardScaler()),\n",
    "    (\"tsne\", TSNE(n_components=3))\n",
    "])\n",
    "X_dr3 = dr3.fit_transform(X)\n",
    "X_dr3 = pd.DataFrame(X_dr3, columns=[\"tsne1\", \"tsne2\", \"tsne3\"])\n",
    "X_dr3 = pd.concat([X_dr3, iris_df[\"species\"]], axis=1)\n",
    "px.scatter_3d(X_dr3, x=\"tsne1\", y=\"tsne2\", z=\"tsne3\", color=\"species\", title=\"t-SNE\")\n",
    "\n"
   ]
  },
  {
   "cell_type": "code",
   "execution_count": null,
   "metadata": {},
   "outputs": [],
   "source": []
  }
 ],
 "metadata": {
  "kernelspec": {
   "display_name": "base",
   "language": "python",
   "name": "python3"
  },
  "language_info": {
   "codemirror_mode": {
    "name": "ipython",
    "version": 3
   },
   "file_extension": ".py",
   "mimetype": "text/x-python",
   "name": "python",
   "nbconvert_exporter": "python",
   "pygments_lexer": "ipython3",
   "version": "3.12.2"
  }
 },
 "nbformat": 4,
 "nbformat_minor": 2
}
