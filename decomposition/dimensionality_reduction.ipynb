{
 "cells": [
  {
   "cell_type": "code",
   "execution_count": 32,
   "metadata": {},
   "outputs": [],
   "source": [
    "import pandas as pd\n",
    "import numpy as np\n",
    "import plotly.express as px"
   ]
  },
  {
   "cell_type": "code",
   "execution_count": 33,
   "metadata": {},
   "outputs": [],
   "source": [
    "pd.options.plotting.backend = \"plotly\""
   ]
  },
  {
   "cell_type": "code",
   "execution_count": 34,
   "metadata": {},
   "outputs": [
    {
     "data": {
      "text/html": [
       "<div>\n",
       "<style scoped>\n",
       "    .dataframe tbody tr th:only-of-type {\n",
       "        vertical-align: middle;\n",
       "    }\n",
       "\n",
       "    .dataframe tbody tr th {\n",
       "        vertical-align: top;\n",
       "    }\n",
       "\n",
       "    .dataframe thead th {\n",
       "        text-align: right;\n",
       "    }\n",
       "</style>\n",
       "<table border=\"1\" class=\"dataframe\">\n",
       "  <thead>\n",
       "    <tr style=\"text-align: right;\">\n",
       "      <th></th>\n",
       "      <th>sepal_length</th>\n",
       "      <th>sepal_width</th>\n",
       "      <th>petal_length</th>\n",
       "      <th>petal_width</th>\n",
       "      <th>species</th>\n",
       "      <th>species_id</th>\n",
       "    </tr>\n",
       "  </thead>\n",
       "  <tbody>\n",
       "    <tr>\n",
       "      <th>0</th>\n",
       "      <td>5.1</td>\n",
       "      <td>3.5</td>\n",
       "      <td>1.4</td>\n",
       "      <td>0.2</td>\n",
       "      <td>setosa</td>\n",
       "      <td>1</td>\n",
       "    </tr>\n",
       "    <tr>\n",
       "      <th>1</th>\n",
       "      <td>4.9</td>\n",
       "      <td>3.0</td>\n",
       "      <td>1.4</td>\n",
       "      <td>0.2</td>\n",
       "      <td>setosa</td>\n",
       "      <td>1</td>\n",
       "    </tr>\n",
       "    <tr>\n",
       "      <th>2</th>\n",
       "      <td>4.7</td>\n",
       "      <td>3.2</td>\n",
       "      <td>1.3</td>\n",
       "      <td>0.2</td>\n",
       "      <td>setosa</td>\n",
       "      <td>1</td>\n",
       "    </tr>\n",
       "    <tr>\n",
       "      <th>3</th>\n",
       "      <td>4.6</td>\n",
       "      <td>3.1</td>\n",
       "      <td>1.5</td>\n",
       "      <td>0.2</td>\n",
       "      <td>setosa</td>\n",
       "      <td>1</td>\n",
       "    </tr>\n",
       "    <tr>\n",
       "      <th>4</th>\n",
       "      <td>5.0</td>\n",
       "      <td>3.6</td>\n",
       "      <td>1.4</td>\n",
       "      <td>0.2</td>\n",
       "      <td>setosa</td>\n",
       "      <td>1</td>\n",
       "    </tr>\n",
       "    <tr>\n",
       "      <th>...</th>\n",
       "      <td>...</td>\n",
       "      <td>...</td>\n",
       "      <td>...</td>\n",
       "      <td>...</td>\n",
       "      <td>...</td>\n",
       "      <td>...</td>\n",
       "    </tr>\n",
       "    <tr>\n",
       "      <th>145</th>\n",
       "      <td>6.7</td>\n",
       "      <td>3.0</td>\n",
       "      <td>5.2</td>\n",
       "      <td>2.3</td>\n",
       "      <td>virginica</td>\n",
       "      <td>3</td>\n",
       "    </tr>\n",
       "    <tr>\n",
       "      <th>146</th>\n",
       "      <td>6.3</td>\n",
       "      <td>2.5</td>\n",
       "      <td>5.0</td>\n",
       "      <td>1.9</td>\n",
       "      <td>virginica</td>\n",
       "      <td>3</td>\n",
       "    </tr>\n",
       "    <tr>\n",
       "      <th>147</th>\n",
       "      <td>6.5</td>\n",
       "      <td>3.0</td>\n",
       "      <td>5.2</td>\n",
       "      <td>2.0</td>\n",
       "      <td>virginica</td>\n",
       "      <td>3</td>\n",
       "    </tr>\n",
       "    <tr>\n",
       "      <th>148</th>\n",
       "      <td>6.2</td>\n",
       "      <td>3.4</td>\n",
       "      <td>5.4</td>\n",
       "      <td>2.3</td>\n",
       "      <td>virginica</td>\n",
       "      <td>3</td>\n",
       "    </tr>\n",
       "    <tr>\n",
       "      <th>149</th>\n",
       "      <td>5.9</td>\n",
       "      <td>3.0</td>\n",
       "      <td>5.1</td>\n",
       "      <td>1.8</td>\n",
       "      <td>virginica</td>\n",
       "      <td>3</td>\n",
       "    </tr>\n",
       "  </tbody>\n",
       "</table>\n",
       "<p>150 rows × 6 columns</p>\n",
       "</div>"
      ],
      "text/plain": [
       "     sepal_length  sepal_width  petal_length  petal_width    species  \\\n",
       "0             5.1          3.5           1.4          0.2     setosa   \n",
       "1             4.9          3.0           1.4          0.2     setosa   \n",
       "2             4.7          3.2           1.3          0.2     setosa   \n",
       "3             4.6          3.1           1.5          0.2     setosa   \n",
       "4             5.0          3.6           1.4          0.2     setosa   \n",
       "..            ...          ...           ...          ...        ...   \n",
       "145           6.7          3.0           5.2          2.3  virginica   \n",
       "146           6.3          2.5           5.0          1.9  virginica   \n",
       "147           6.5          3.0           5.2          2.0  virginica   \n",
       "148           6.2          3.4           5.4          2.3  virginica   \n",
       "149           5.9          3.0           5.1          1.8  virginica   \n",
       "\n",
       "     species_id  \n",
       "0             1  \n",
       "1             1  \n",
       "2             1  \n",
       "3             1  \n",
       "4             1  \n",
       "..          ...  \n",
       "145           3  \n",
       "146           3  \n",
       "147           3  \n",
       "148           3  \n",
       "149           3  \n",
       "\n",
       "[150 rows x 6 columns]"
      ]
     },
     "execution_count": 34,
     "metadata": {},
     "output_type": "execute_result"
    }
   ],
   "source": [
    "iris_df = px.data.iris()\n",
    "iris_df"
   ]
  },
  {
   "cell_type": "code",
   "execution_count": 35,
   "metadata": {},
   "outputs": [],
   "source": [
    "from sklearn.preprocessing import StandardScaler\n",
    "from sklearn.decomposition import PCA, KernelPCA\n",
    "from sklearn.discriminant_analysis import LinearDiscriminantAnalysis\n",
    "from sklearn.manifold import TSNE"
   ]
  },
  {
   "cell_type": "code",
   "execution_count": 36,
   "metadata": {},
   "outputs": [
    {
     "data": {
      "text/html": [
       "<div>\n",
       "<style scoped>\n",
       "    .dataframe tbody tr th:only-of-type {\n",
       "        vertical-align: middle;\n",
       "    }\n",
       "\n",
       "    .dataframe tbody tr th {\n",
       "        vertical-align: top;\n",
       "    }\n",
       "\n",
       "    .dataframe thead th {\n",
       "        text-align: right;\n",
       "    }\n",
       "</style>\n",
       "<table border=\"1\" class=\"dataframe\">\n",
       "  <thead>\n",
       "    <tr style=\"text-align: right;\">\n",
       "      <th></th>\n",
       "      <th>sepal_length</th>\n",
       "      <th>sepal_width</th>\n",
       "      <th>petal_length</th>\n",
       "      <th>petal_width</th>\n",
       "    </tr>\n",
       "  </thead>\n",
       "  <tbody>\n",
       "    <tr>\n",
       "      <th>0</th>\n",
       "      <td>5.1</td>\n",
       "      <td>3.5</td>\n",
       "      <td>1.4</td>\n",
       "      <td>0.2</td>\n",
       "    </tr>\n",
       "    <tr>\n",
       "      <th>1</th>\n",
       "      <td>4.9</td>\n",
       "      <td>3.0</td>\n",
       "      <td>1.4</td>\n",
       "      <td>0.2</td>\n",
       "    </tr>\n",
       "    <tr>\n",
       "      <th>2</th>\n",
       "      <td>4.7</td>\n",
       "      <td>3.2</td>\n",
       "      <td>1.3</td>\n",
       "      <td>0.2</td>\n",
       "    </tr>\n",
       "    <tr>\n",
       "      <th>3</th>\n",
       "      <td>4.6</td>\n",
       "      <td>3.1</td>\n",
       "      <td>1.5</td>\n",
       "      <td>0.2</td>\n",
       "    </tr>\n",
       "    <tr>\n",
       "      <th>4</th>\n",
       "      <td>5.0</td>\n",
       "      <td>3.6</td>\n",
       "      <td>1.4</td>\n",
       "      <td>0.2</td>\n",
       "    </tr>\n",
       "    <tr>\n",
       "      <th>...</th>\n",
       "      <td>...</td>\n",
       "      <td>...</td>\n",
       "      <td>...</td>\n",
       "      <td>...</td>\n",
       "    </tr>\n",
       "    <tr>\n",
       "      <th>145</th>\n",
       "      <td>6.7</td>\n",
       "      <td>3.0</td>\n",
       "      <td>5.2</td>\n",
       "      <td>2.3</td>\n",
       "    </tr>\n",
       "    <tr>\n",
       "      <th>146</th>\n",
       "      <td>6.3</td>\n",
       "      <td>2.5</td>\n",
       "      <td>5.0</td>\n",
       "      <td>1.9</td>\n",
       "    </tr>\n",
       "    <tr>\n",
       "      <th>147</th>\n",
       "      <td>6.5</td>\n",
       "      <td>3.0</td>\n",
       "      <td>5.2</td>\n",
       "      <td>2.0</td>\n",
       "    </tr>\n",
       "    <tr>\n",
       "      <th>148</th>\n",
       "      <td>6.2</td>\n",
       "      <td>3.4</td>\n",
       "      <td>5.4</td>\n",
       "      <td>2.3</td>\n",
       "    </tr>\n",
       "    <tr>\n",
       "      <th>149</th>\n",
       "      <td>5.9</td>\n",
       "      <td>3.0</td>\n",
       "      <td>5.1</td>\n",
       "      <td>1.8</td>\n",
       "    </tr>\n",
       "  </tbody>\n",
       "</table>\n",
       "<p>150 rows × 4 columns</p>\n",
       "</div>"
      ],
      "text/plain": [
       "     sepal_length  sepal_width  petal_length  petal_width\n",
       "0             5.1          3.5           1.4          0.2\n",
       "1             4.9          3.0           1.4          0.2\n",
       "2             4.7          3.2           1.3          0.2\n",
       "3             4.6          3.1           1.5          0.2\n",
       "4             5.0          3.6           1.4          0.2\n",
       "..            ...          ...           ...          ...\n",
       "145           6.7          3.0           5.2          2.3\n",
       "146           6.3          2.5           5.0          1.9\n",
       "147           6.5          3.0           5.2          2.0\n",
       "148           6.2          3.4           5.4          2.3\n",
       "149           5.9          3.0           5.1          1.8\n",
       "\n",
       "[150 rows x 4 columns]"
      ]
     },
     "execution_count": 36,
     "metadata": {},
     "output_type": "execute_result"
    }
   ],
   "source": [
    "X = iris_df.drop(columns=[\"species\", \"species_id\"])\n",
    "X"
   ]
  },
  {
   "cell_type": "code",
   "execution_count": 37,
   "metadata": {},
   "outputs": [],
   "source": [
    "np.set_printoptions(precision=2, suppress=True)"
   ]
  },
  {
   "cell_type": "code",
   "execution_count": 38,
   "metadata": {},
   "outputs": [
    {
     "data": {
      "application/vnd.plotly.v1+json": {
       "config": {
        "plotlyServerURL": "https://plot.ly"
       },
       "data": [
        {
         "hovertemplate": "species=setosa<br>pc1=%{x}<br>pc2=%{y}<extra></extra>",
         "legendgroup": "setosa",
         "marker": {
          "color": "#636efa",
          "symbol": "circle"
         },
         "mode": "markers",
         "name": "setosa",
         "orientation": "v",
         "showlegend": true,
         "type": "scatter",
         "x": [
          -2.2645417283949003,
          -2.0864255006161585,
          -2.367950449062526,
          -2.304197161152009,
          -2.3887774935056423,
          -2.070536807180554,
          -2.4457113396302836,
          -2.2338418587092663,
          -2.3419576764553898,
          -2.1886757552808698,
          -2.1634865562665233,
          -2.3273777541343743,
          -2.224082722045002,
          -2.639716260844629,
          -2.1922915084984305,
          -2.2514652145840666,
          -2.2027504800800863,
          -2.1901791637910524,
          -1.894074293023669,
          -2.3399490704234087,
          -1.9145563949595175,
          -2.2046453975338145,
          -2.7741697937051573,
          -1.820411563337214,
          -2.2282174994597255,
          -1.957024007341397,
          -2.052063311276687,
          -2.1681936533450217,
          -2.140305963284158,
          -2.2687901943878765,
          -2.1445544292771346,
          -1.8319381022015875,
          -2.608202867663348,
          -2.4379508590951438,
          -2.1886757552808698,
          -2.2111198968124226,
          -2.044416519319801,
          -2.1886757552808698,
          -2.435952202966019,
          -2.1705472018842706,
          -2.2865272388409306,
          -1.87170722353695,
          -2.5578344195375124,
          -1.9642792903547375,
          -2.1333728329200286,
          -2.0753575928373063,
          -2.3812582168023737,
          -2.3981916876626386,
          -2.2267812130915194,
          -2.2059541686484025
         ],
         "xaxis": "x",
         "y": [
          0.5057039027737845,
          -0.6554047293691366,
          -0.31847731084724923,
          -0.5753677125331954,
          0.6747673967025153,
          1.5185485598885131,
          0.07456267500687408,
          0.24761393175226515,
          -1.0951463625829552,
          -0.4486290483375592,
          1.0705955760377264,
          0.15858745465947596,
          -0.7091181580302263,
          -0.9382819821078541,
          1.8899785123164659,
          2.7223710765744693,
          1.5137502825462186,
          0.5143043082206927,
          1.431110706941237,
          1.1580334289850012,
          0.43046516328013795,
          0.9524573172889983,
          0.48951702650349505,
          0.10675079283540614,
          0.16218616266619695,
          -0.607892567483808,
          0.2660143119816551,
          0.5520164953235398,
          0.33664040884505414,
          -0.31487860284052827,
          -0.48394209676925903,
          0.44526683550280705,
          1.8284751927341014,
          2.185391615630893,
          -0.4486290483375592,
          -0.18433781054027884,
          0.6849564262949365,
          -0.4486290483375592,
          -0.8821694147756171,
          0.29272695496644624,
          0.4679917156709379,
          -2.3276916061149104,
          -0.45381638048979317,
          0.4973916400183834,
          1.171432111774204,
          -0.69191734713641,
          1.1506325928736667,
          -0.36239076472585713,
          1.0254825528235447,
          0.03223784527377952
         ],
         "yaxis": "y"
        },
        {
         "hovertemplate": "species=versicolor<br>pc1=%{x}<br>pc2=%{y}<extra></extra>",
         "legendgroup": "versicolor",
         "marker": {
          "color": "#EF553B",
          "symbol": "circle"
         },
         "mode": "markers",
         "name": "versicolor",
         "orientation": "v",
         "showlegend": true,
         "type": "scatter",
         "x": [
          1.1039936528045717,
          0.7324814400086804,
          1.2421095053189373,
          0.39730728282332806,
          1.0725939482015452,
          0.38445814616900187,
          0.7487150759515524,
          -0.49786338779811706,
          0.9262223675330981,
          0.004968025584319886,
          -0.12469746138036956,
          0.43873011778054677,
          0.5516339814225082,
          0.7171650662368512,
          -0.037258382965688105,
          0.8758905359406828,
          0.3480064019802087,
          0.15339254456866722,
          1.2153032092161546,
          0.15694117564425117,
          0.7382561043698957,
          0.4723696823445686,
          1.2279882140834428,
          0.6293810453149019,
          0.7004727992084582,
          0.8735369874014334,
          1.2542221905224498,
          1.3582398473872714,
          0.6621261375659377,
          -0.04728151331987973,
          0.12153420888011936,
          0.014118226051388405,
          0.23601083732659714,
          1.056691428090577,
          0.221417088330218,
          0.43178316074105316,
          1.04941335521918,
          1.0358782103228248,
          0.06706759987298043,
          0.2754250662518349,
          0.2723350662617726,
          0.6231705397262214,
          0.33000536383722684,
          -0.37362762268737515,
          0.2829443429551032,
          0.08905311031901153,
          0.22435678320860616,
          0.5738834855584669,
          -0.4570128725046741,
          0.2522444732694695
         ],
         "xaxis": "x",
         "y": [
          0.8631124458513244,
          0.5986355733419974,
          0.6148224496122868,
          -1.758168947443526,
          -0.2117579026798955,
          -0.5910624686227363,
          0.7786986113887823,
          -1.8488687712754426,
          0.030330826783381278,
          -1.029401112403088,
          -2.6580626779617607,
          -0.05888128502145434,
          -1.7725815648562548,
          -0.18543431450504372,
          -0.432795098714169,
          0.5099981510591476,
          -0.19062164665727774,
          -0.7907254562344853,
          -1.6333556445154829,
          -1.303103270172911,
          0.40247038161853593,
          -0.41660822244387946,
          -0.9409147925302722,
          -0.41681164254177194,
          -0.06349392765170211,
          0.250708610702054,
          -0.08262009981311234,
          0.3288202662704021,
          -0.22434607094346407,
          -1.0572124126050202,
          -1.563592379865578,
          -1.5733923546480597,
          -0.7759237840118164,
          -0.6369012837689368,
          -0.2808476930856401,
          0.8551369202180029,
          0.5221972645127767,
          -1.3924664843877808,
          -0.2126207348933887,
          -1.3298159131577023,
          -1.1194415241194038,
          0.027542633302294558,
          -0.9889007318191547,
          -2.017932265204173,
          -0.85395071698655,
          -0.17490854779054163,
          -0.3804846594865454,
          -0.1537199740800649,
          -1.5394645102639808,
          -0.5958607459650309
         ],
         "yaxis": "y"
        },
        {
         "hovertemplate": "species=virginica<br>pc1=%{x}<br>pc2=%{y}<extra></extra>",
         "legendgroup": "virginica",
         "marker": {
          "color": "#00cc96",
          "symbol": "circle"
         },
         "mode": "markers",
         "name": "virginica",
         "orientation": "v",
         "showlegend": true,
         "type": "scatter",
         "x": [
          1.847672594309664,
          1.1531898082521295,
          2.206349497126593,
          1.438685402326182,
          1.8678907025555844,
          2.7541967088257526,
          0.3583744748416688,
          2.303005898150319,
          2.001735299218917,
          2.2675545991022674,
          1.365909429202214,
          1.5990645856518695,
          1.884251853752074,
          1.2530865143775924,
          1.464061522985623,
          1.5918093026385287,
          1.4712801894655436,
          2.437378482193507,
          3.309141182676079,
          1.2539809866905787,
          2.0404962596630387,
          0.9739151144704741,
          2.8980644358432763,
          1.3291936913234936,
          1.7042407085196054,
          1.957727661793435,
          1.1719045079878687,
          1.019781052816263,
          1.7860088612484681,
          1.8647779127074657,
          2.435497391415143,
          2.316082411961153,
          1.860371425852316,
          1.1112717256759692,
          1.197469155118038,
          2.8009494037340286,
          1.5801552485205368,
          1.3470444243548017,
          0.9234329777663843,
          1.8535519840664405,
          2.016157200677759,
          1.9031168585994869,
          1.1531898082521295,
          2.043308439287809,
          2.0016909669349974,
          1.8705220714601254,
          1.5584918907237175,
          1.5208450639985904,
          1.3763911906419277,
          0.959298575616038
         ],
         "xaxis": "x",
         "y": [
          0.8716966617734133,
          -0.7013261138565753,
          0.5544701049349229,
          -0.05001052226888531,
          0.2911928017611694,
          0.7884322063548453,
          -1.5600945839772893,
          0.40951669522194384,
          -0.723865359312659,
          1.9214429914653552,
          0.6939480398041613,
          -0.42824883590033946,
          0.41433275795008423,
          -1.1673913352452456,
          -0.4441475694791234,
          0.6770353716018519,
          0.25319247196681577,
          2.5567573414948024,
          -0.0023613201020825313,
          -1.7175838442659774,
          0.9073987650150532,
          -0.5711743763662661,
          0.39779135917186864,
          -0.4867605419037239,
          1.0141484248357855,
          1.0033345154297777,
          -0.31889661731056773,
          0.0655429630966482,
          -0.19327279985689114,
          0.5553815315789902,
          0.24665446806897448,
          2.626183869022628,
          -0.18467239440998295,
          -0.29598610243039003,
          -0.8171677419136156,
          0.844748193784975,
          1.0724744961271224,
          0.4222559658955465,
          0.019230370546893322,
          0.672422728971604,
          0.6103970375551132,
          0.6860248318586993,
          -0.7013261138565753,
          0.8646848804720191,
          1.048550046623418,
          0.3828218376229984,
          -0.905313601407066,
          0.2667945748539111,
          1.0163619287948857,
          -0.022283944660566875
         ],
         "yaxis": "y"
        }
       ],
       "layout": {
        "height": 600,
        "legend": {
         "title": {
          "text": "species"
         },
         "tracegroupgap": 0
        },
        "template": {
         "data": {
          "bar": [
           {
            "error_x": {
             "color": "#f2f5fa"
            },
            "error_y": {
             "color": "#f2f5fa"
            },
            "marker": {
             "line": {
              "color": "rgb(17,17,17)",
              "width": 0.5
             },
             "pattern": {
              "fillmode": "overlay",
              "size": 10,
              "solidity": 0.2
             }
            },
            "type": "bar"
           }
          ],
          "barpolar": [
           {
            "marker": {
             "line": {
              "color": "rgb(17,17,17)",
              "width": 0.5
             },
             "pattern": {
              "fillmode": "overlay",
              "size": 10,
              "solidity": 0.2
             }
            },
            "type": "barpolar"
           }
          ],
          "carpet": [
           {
            "aaxis": {
             "endlinecolor": "#A2B1C6",
             "gridcolor": "#506784",
             "linecolor": "#506784",
             "minorgridcolor": "#506784",
             "startlinecolor": "#A2B1C6"
            },
            "baxis": {
             "endlinecolor": "#A2B1C6",
             "gridcolor": "#506784",
             "linecolor": "#506784",
             "minorgridcolor": "#506784",
             "startlinecolor": "#A2B1C6"
            },
            "type": "carpet"
           }
          ],
          "choropleth": [
           {
            "colorbar": {
             "outlinewidth": 0,
             "ticks": ""
            },
            "type": "choropleth"
           }
          ],
          "contour": [
           {
            "colorbar": {
             "outlinewidth": 0,
             "ticks": ""
            },
            "colorscale": [
             [
              0,
              "#0d0887"
             ],
             [
              0.1111111111111111,
              "#46039f"
             ],
             [
              0.2222222222222222,
              "#7201a8"
             ],
             [
              0.3333333333333333,
              "#9c179e"
             ],
             [
              0.4444444444444444,
              "#bd3786"
             ],
             [
              0.5555555555555556,
              "#d8576b"
             ],
             [
              0.6666666666666666,
              "#ed7953"
             ],
             [
              0.7777777777777778,
              "#fb9f3a"
             ],
             [
              0.8888888888888888,
              "#fdca26"
             ],
             [
              1,
              "#f0f921"
             ]
            ],
            "type": "contour"
           }
          ],
          "contourcarpet": [
           {
            "colorbar": {
             "outlinewidth": 0,
             "ticks": ""
            },
            "type": "contourcarpet"
           }
          ],
          "heatmap": [
           {
            "colorbar": {
             "outlinewidth": 0,
             "ticks": ""
            },
            "colorscale": [
             [
              0,
              "#0d0887"
             ],
             [
              0.1111111111111111,
              "#46039f"
             ],
             [
              0.2222222222222222,
              "#7201a8"
             ],
             [
              0.3333333333333333,
              "#9c179e"
             ],
             [
              0.4444444444444444,
              "#bd3786"
             ],
             [
              0.5555555555555556,
              "#d8576b"
             ],
             [
              0.6666666666666666,
              "#ed7953"
             ],
             [
              0.7777777777777778,
              "#fb9f3a"
             ],
             [
              0.8888888888888888,
              "#fdca26"
             ],
             [
              1,
              "#f0f921"
             ]
            ],
            "type": "heatmap"
           }
          ],
          "heatmapgl": [
           {
            "colorbar": {
             "outlinewidth": 0,
             "ticks": ""
            },
            "colorscale": [
             [
              0,
              "#0d0887"
             ],
             [
              0.1111111111111111,
              "#46039f"
             ],
             [
              0.2222222222222222,
              "#7201a8"
             ],
             [
              0.3333333333333333,
              "#9c179e"
             ],
             [
              0.4444444444444444,
              "#bd3786"
             ],
             [
              0.5555555555555556,
              "#d8576b"
             ],
             [
              0.6666666666666666,
              "#ed7953"
             ],
             [
              0.7777777777777778,
              "#fb9f3a"
             ],
             [
              0.8888888888888888,
              "#fdca26"
             ],
             [
              1,
              "#f0f921"
             ]
            ],
            "type": "heatmapgl"
           }
          ],
          "histogram": [
           {
            "marker": {
             "pattern": {
              "fillmode": "overlay",
              "size": 10,
              "solidity": 0.2
             }
            },
            "type": "histogram"
           }
          ],
          "histogram2d": [
           {
            "colorbar": {
             "outlinewidth": 0,
             "ticks": ""
            },
            "colorscale": [
             [
              0,
              "#0d0887"
             ],
             [
              0.1111111111111111,
              "#46039f"
             ],
             [
              0.2222222222222222,
              "#7201a8"
             ],
             [
              0.3333333333333333,
              "#9c179e"
             ],
             [
              0.4444444444444444,
              "#bd3786"
             ],
             [
              0.5555555555555556,
              "#d8576b"
             ],
             [
              0.6666666666666666,
              "#ed7953"
             ],
             [
              0.7777777777777778,
              "#fb9f3a"
             ],
             [
              0.8888888888888888,
              "#fdca26"
             ],
             [
              1,
              "#f0f921"
             ]
            ],
            "type": "histogram2d"
           }
          ],
          "histogram2dcontour": [
           {
            "colorbar": {
             "outlinewidth": 0,
             "ticks": ""
            },
            "colorscale": [
             [
              0,
              "#0d0887"
             ],
             [
              0.1111111111111111,
              "#46039f"
             ],
             [
              0.2222222222222222,
              "#7201a8"
             ],
             [
              0.3333333333333333,
              "#9c179e"
             ],
             [
              0.4444444444444444,
              "#bd3786"
             ],
             [
              0.5555555555555556,
              "#d8576b"
             ],
             [
              0.6666666666666666,
              "#ed7953"
             ],
             [
              0.7777777777777778,
              "#fb9f3a"
             ],
             [
              0.8888888888888888,
              "#fdca26"
             ],
             [
              1,
              "#f0f921"
             ]
            ],
            "type": "histogram2dcontour"
           }
          ],
          "mesh3d": [
           {
            "colorbar": {
             "outlinewidth": 0,
             "ticks": ""
            },
            "type": "mesh3d"
           }
          ],
          "parcoords": [
           {
            "line": {
             "colorbar": {
              "outlinewidth": 0,
              "ticks": ""
             }
            },
            "type": "parcoords"
           }
          ],
          "pie": [
           {
            "automargin": true,
            "type": "pie"
           }
          ],
          "scatter": [
           {
            "marker": {
             "line": {
              "color": "#283442"
             }
            },
            "type": "scatter"
           }
          ],
          "scatter3d": [
           {
            "line": {
             "colorbar": {
              "outlinewidth": 0,
              "ticks": ""
             }
            },
            "marker": {
             "colorbar": {
              "outlinewidth": 0,
              "ticks": ""
             }
            },
            "type": "scatter3d"
           }
          ],
          "scattercarpet": [
           {
            "marker": {
             "colorbar": {
              "outlinewidth": 0,
              "ticks": ""
             }
            },
            "type": "scattercarpet"
           }
          ],
          "scattergeo": [
           {
            "marker": {
             "colorbar": {
              "outlinewidth": 0,
              "ticks": ""
             }
            },
            "type": "scattergeo"
           }
          ],
          "scattergl": [
           {
            "marker": {
             "line": {
              "color": "#283442"
             }
            },
            "type": "scattergl"
           }
          ],
          "scattermapbox": [
           {
            "marker": {
             "colorbar": {
              "outlinewidth": 0,
              "ticks": ""
             }
            },
            "type": "scattermapbox"
           }
          ],
          "scatterpolar": [
           {
            "marker": {
             "colorbar": {
              "outlinewidth": 0,
              "ticks": ""
             }
            },
            "type": "scatterpolar"
           }
          ],
          "scatterpolargl": [
           {
            "marker": {
             "colorbar": {
              "outlinewidth": 0,
              "ticks": ""
             }
            },
            "type": "scatterpolargl"
           }
          ],
          "scatterternary": [
           {
            "marker": {
             "colorbar": {
              "outlinewidth": 0,
              "ticks": ""
             }
            },
            "type": "scatterternary"
           }
          ],
          "surface": [
           {
            "colorbar": {
             "outlinewidth": 0,
             "ticks": ""
            },
            "colorscale": [
             [
              0,
              "#0d0887"
             ],
             [
              0.1111111111111111,
              "#46039f"
             ],
             [
              0.2222222222222222,
              "#7201a8"
             ],
             [
              0.3333333333333333,
              "#9c179e"
             ],
             [
              0.4444444444444444,
              "#bd3786"
             ],
             [
              0.5555555555555556,
              "#d8576b"
             ],
             [
              0.6666666666666666,
              "#ed7953"
             ],
             [
              0.7777777777777778,
              "#fb9f3a"
             ],
             [
              0.8888888888888888,
              "#fdca26"
             ],
             [
              1,
              "#f0f921"
             ]
            ],
            "type": "surface"
           }
          ],
          "table": [
           {
            "cells": {
             "fill": {
              "color": "#506784"
             },
             "line": {
              "color": "rgb(17,17,17)"
             }
            },
            "header": {
             "fill": {
              "color": "#2a3f5f"
             },
             "line": {
              "color": "rgb(17,17,17)"
             }
            },
            "type": "table"
           }
          ]
         },
         "layout": {
          "annotationdefaults": {
           "arrowcolor": "#f2f5fa",
           "arrowhead": 0,
           "arrowwidth": 1
          },
          "autotypenumbers": "strict",
          "coloraxis": {
           "colorbar": {
            "outlinewidth": 0,
            "ticks": ""
           }
          },
          "colorscale": {
           "diverging": [
            [
             0,
             "#8e0152"
            ],
            [
             0.1,
             "#c51b7d"
            ],
            [
             0.2,
             "#de77ae"
            ],
            [
             0.3,
             "#f1b6da"
            ],
            [
             0.4,
             "#fde0ef"
            ],
            [
             0.5,
             "#f7f7f7"
            ],
            [
             0.6,
             "#e6f5d0"
            ],
            [
             0.7,
             "#b8e186"
            ],
            [
             0.8,
             "#7fbc41"
            ],
            [
             0.9,
             "#4d9221"
            ],
            [
             1,
             "#276419"
            ]
           ],
           "sequential": [
            [
             0,
             "#0d0887"
            ],
            [
             0.1111111111111111,
             "#46039f"
            ],
            [
             0.2222222222222222,
             "#7201a8"
            ],
            [
             0.3333333333333333,
             "#9c179e"
            ],
            [
             0.4444444444444444,
             "#bd3786"
            ],
            [
             0.5555555555555556,
             "#d8576b"
            ],
            [
             0.6666666666666666,
             "#ed7953"
            ],
            [
             0.7777777777777778,
             "#fb9f3a"
            ],
            [
             0.8888888888888888,
             "#fdca26"
            ],
            [
             1,
             "#f0f921"
            ]
           ],
           "sequentialminus": [
            [
             0,
             "#0d0887"
            ],
            [
             0.1111111111111111,
             "#46039f"
            ],
            [
             0.2222222222222222,
             "#7201a8"
            ],
            [
             0.3333333333333333,
             "#9c179e"
            ],
            [
             0.4444444444444444,
             "#bd3786"
            ],
            [
             0.5555555555555556,
             "#d8576b"
            ],
            [
             0.6666666666666666,
             "#ed7953"
            ],
            [
             0.7777777777777778,
             "#fb9f3a"
            ],
            [
             0.8888888888888888,
             "#fdca26"
            ],
            [
             1,
             "#f0f921"
            ]
           ]
          },
          "colorway": [
           "#636efa",
           "#EF553B",
           "#00cc96",
           "#ab63fa",
           "#FFA15A",
           "#19d3f3",
           "#FF6692",
           "#B6E880",
           "#FF97FF",
           "#FECB52"
          ],
          "font": {
           "color": "#f2f5fa"
          },
          "geo": {
           "bgcolor": "rgb(17,17,17)",
           "lakecolor": "rgb(17,17,17)",
           "landcolor": "rgb(17,17,17)",
           "showlakes": true,
           "showland": true,
           "subunitcolor": "#506784"
          },
          "hoverlabel": {
           "align": "left"
          },
          "hovermode": "closest",
          "mapbox": {
           "style": "dark"
          },
          "paper_bgcolor": "rgb(17,17,17)",
          "plot_bgcolor": "rgb(17,17,17)",
          "polar": {
           "angularaxis": {
            "gridcolor": "#506784",
            "linecolor": "#506784",
            "ticks": ""
           },
           "bgcolor": "rgb(17,17,17)",
           "radialaxis": {
            "gridcolor": "#506784",
            "linecolor": "#506784",
            "ticks": ""
           }
          },
          "scene": {
           "xaxis": {
            "backgroundcolor": "rgb(17,17,17)",
            "gridcolor": "#506784",
            "gridwidth": 2,
            "linecolor": "#506784",
            "showbackground": true,
            "ticks": "",
            "zerolinecolor": "#C8D4E3"
           },
           "yaxis": {
            "backgroundcolor": "rgb(17,17,17)",
            "gridcolor": "#506784",
            "gridwidth": 2,
            "linecolor": "#506784",
            "showbackground": true,
            "ticks": "",
            "zerolinecolor": "#C8D4E3"
           },
           "zaxis": {
            "backgroundcolor": "rgb(17,17,17)",
            "gridcolor": "#506784",
            "gridwidth": 2,
            "linecolor": "#506784",
            "showbackground": true,
            "ticks": "",
            "zerolinecolor": "#C8D4E3"
           }
          },
          "shapedefaults": {
           "line": {
            "color": "#f2f5fa"
           }
          },
          "sliderdefaults": {
           "bgcolor": "#C8D4E3",
           "bordercolor": "rgb(17,17,17)",
           "borderwidth": 1,
           "tickwidth": 0
          },
          "ternary": {
           "aaxis": {
            "gridcolor": "#506784",
            "linecolor": "#506784",
            "ticks": ""
           },
           "baxis": {
            "gridcolor": "#506784",
            "linecolor": "#506784",
            "ticks": ""
           },
           "bgcolor": "rgb(17,17,17)",
           "caxis": {
            "gridcolor": "#506784",
            "linecolor": "#506784",
            "ticks": ""
           }
          },
          "title": {
           "x": 0.05
          },
          "updatemenudefaults": {
           "bgcolor": "#506784",
           "borderwidth": 0
          },
          "xaxis": {
           "automargin": true,
           "gridcolor": "#283442",
           "linecolor": "#506784",
           "ticks": "",
           "title": {
            "standoff": 15
           },
           "zerolinecolor": "#283442",
           "zerolinewidth": 2
          },
          "yaxis": {
           "automargin": true,
           "gridcolor": "#283442",
           "linecolor": "#506784",
           "ticks": "",
           "title": {
            "standoff": 15
           },
           "zerolinecolor": "#283442",
           "zerolinewidth": 2
          }
         }
        },
        "title": {
         "text": "PCA"
        },
        "xaxis": {
         "anchor": "y",
         "domain": [
          0,
          1
         ],
         "title": {
          "text": "pc1"
         }
        },
        "yaxis": {
         "anchor": "x",
         "domain": [
          0,
          1
         ],
         "title": {
          "text": "pc2"
         }
        }
       }
      }
     },
     "metadata": {},
     "output_type": "display_data"
    }
   ],
   "source": [
    "scaler = StandardScaler()\n",
    "pca = PCA(n_components=2)\n",
    "X_scaled = scaler.fit_transform(X)\n",
    "X_pca = pca.fit_transform(X_scaled)\n",
    "X_pca = pd.DataFrame(X_pca, columns=[\"pc1\", \"pc2\"])\n",
    "X_pca = pd.concat([X_pca, iris_df[\"species\"]], axis=1)\n",
    "X_pca.plot.scatter(x=\"pc1\", y=\"pc2\", color=\"species\", title=\"PCA\", template=\"plotly_dark\", height=600)\n",
    "\n"
   ]
  },
  {
   "cell_type": "code",
   "execution_count": 39,
   "metadata": {},
   "outputs": [
    {
     "data": {
      "application/vnd.plotly.v1+json": {
       "config": {
        "plotlyServerURL": "https://plot.ly"
       },
       "data": [
        {
         "hovertemplate": "species=setosa<br>pc1=%{x}<br>pc2=%{y}<br>pc3=%{z}<extra></extra>",
         "legendgroup": "setosa",
         "marker": {
          "color": "#636efa",
          "symbol": "circle"
         },
         "mode": "markers",
         "name": "setosa",
         "scene": "scene",
         "showlegend": true,
         "type": "scatter3d",
         "x": [
          -2.2645417283948985,
          -2.0864255006161714,
          -2.3679504490625263,
          -2.3041971611520102,
          -2.3887774935056436,
          -2.070536807180554,
          -2.4457113396302845,
          -2.2338418587092668,
          -2.341957676455391,
          -2.1886757552808707,
          -2.1634865562665233,
          -2.3273777541343748,
          -2.2240827220450035,
          -2.639716260844631,
          -2.192291508498431,
          -2.251465214584066,
          -2.2027504800800872,
          -2.1901791637910533,
          -1.894074293023669,
          -2.33994907042341,
          -1.9145563949595175,
          -2.204645397533815,
          -2.7741697937051586,
          -1.8204115633372149,
          -2.228217499459726,
          -1.9570240073413978,
          -2.0520633112766875,
          -2.168193653345022,
          -2.1403059632841592,
          -2.268790194387878,
          -2.144554429277136,
          -1.8319381022015881,
          -2.6082028676633495,
          -2.4379508590951433,
          -2.188675755280871,
          -2.2111198968124235,
          -2.0444165193198023,
          -2.188675755280871,
          -2.4359522029660208,
          -2.1705472018842715,
          -2.2865272388409315,
          -1.871707223536952,
          -2.557834419537514,
          -1.9642792903547381,
          -2.1333728329200294,
          -2.0753575928373076,
          -2.3812582168023746,
          -2.398191687662639,
          -2.22678121309152,
          -2.205954168648403
         ],
         "y": [
          0.505703902773785,
          -0.6554047293691359,
          -0.3184773108472505,
          -0.5753677125331953,
          0.6747673967025158,
          1.5185485598885136,
          0.07456267500687412,
          0.24761393175226523,
          -1.0951463625829554,
          -0.4486290483375593,
          1.0705955760377273,
          0.15858745465947655,
          -0.7091181580302263,
          -0.9382819821078539,
          1.889978512316467,
          2.72237107657447,
          1.5137502825462195,
          0.5143043082206934,
          1.4311107069412374,
          1.1580334289850018,
          0.4304651632801384,
          0.9524573172889991,
          0.4895170265034956,
          0.10675079283540644,
          0.1621861626661973,
          -0.6078925674838079,
          0.2660143119816554,
          0.5520164953235401,
          0.33664040884505436,
          -0.31487860284052793,
          -0.483942096769259,
          0.4452668355028073,
          1.8284751927341025,
          2.1853916156308935,
          -0.4486290483375591,
          -0.18433781054027842,
          0.6849564262949374,
          -0.44862904833755923,
          -0.8821694147756171,
          0.29272695496644663,
          0.4679917156709383,
          -2.3276916061149113,
          -0.45381638048979256,
          0.4973916400183841,
          1.1714321117742048,
          -0.69191734713641,
          1.1506325928736674,
          -0.3623907647258573,
          1.0254825528235454,
          0.03223784527377985
         ],
         "z": [
          -0.1219433477817572,
          -0.22725083239925079,
          0.05147962364496657,
          0.098860444437404,
          0.021427848973115345,
          0.03068425828072508,
          0.34219763621375443,
          -0.08257446445485127,
          0.15356239869462493,
          -0.246559522388608,
          -0.26400937334710517,
          0.10016561562692766,
          -0.22321451399276165,
          0.1895700301512716,
          -0.46948009463594853,
          0.032603796659033034,
          -0.001363491581394662,
          -0.03861559488012008,
          -0.3707428339920338,
          0.13741771892565458,
          -0.4160068747562895,
          0.1647383463805429,
          0.33883638434349395,
          0.04006147242624759,
          0.12420142802351787,
          -0.2985910287763141,
          0.09209297881395329,
          -0.20129548162435204,
          -0.26531454453663067,
          0.07551543604155556,
          -0.06785576071331692,
          -0.2653752438840752,
          0.05141951815449949,
          -0.07934975488701841,
          -0.24655952238860848,
          -0.2186245277449374,
          -0.47941157047978594,
          -0.24655952238860876,
          0.20155758667584311,
          -0.16993853576297546,
          0.040736538962474464,
          -0.19452860985788073,
          0.31357183756934,
          0.31475561006397534,
          0.2527932216894118,
          -0.05655900818948731,
          0.0621019034895475,
          0.14685563241862082,
          -0.1766453020389802,
          -0.14659352736712908
         ]
        },
        {
         "hovertemplate": "species=versicolor<br>pc1=%{x}<br>pc2=%{y}<br>pc3=%{z}<extra></extra>",
         "legendgroup": "versicolor",
         "marker": {
          "color": "#EF553B",
          "symbol": "circle"
         },
         "mode": "markers",
         "name": "versicolor",
         "scene": "scene",
         "showlegend": true,
         "type": "scatter3d",
         "x": [
          1.1039936528045724,
          0.7324814400086809,
          1.242109505318938,
          0.39730728282332745,
          1.0725939482015454,
          0.3844581461690018,
          0.7487150759515528,
          -0.49786338779811795,
          0.9262223675330985,
          0.004968025584319604,
          -0.12469746138037056,
          0.43873011778054694,
          0.551633981422508,
          0.7171650662368517,
          -0.03725838296568831,
          0.8758905359406833,
          0.3480064019802087,
          0.15339254456866697,
          1.2153032092161544,
          0.15694117564425072,
          0.7382561043698963,
          0.4723696823445685,
          1.227988214083443,
          0.6293810453149022,
          0.7004727992084584,
          0.8735369874014337,
          1.254222190522451,
          1.3582398473872717,
          0.6621261375659382,
          -0.04728151331988019,
          0.12153420888011876,
          0.014118226051387727,
          0.23601083732659706,
          1.056691428090577,
          0.22141708833021795,
          0.4317831607410537,
          1.0494133552191804,
          1.0358782103228248,
          0.06706759987298035,
          0.27542506625183444,
          0.27233506626177245,
          0.6231705397262215,
          0.3300053638372268,
          -0.3736276226873761,
          0.28294434295510285,
          0.08905311031901152,
          0.2243567832086061,
          0.573883485558467,
          -0.457012872504675,
          0.25224447326946925
         ],
         "y": [
          0.8631124458513248,
          0.5986355733419972,
          0.6148224496122868,
          -1.7581689474435271,
          -0.21175790267989592,
          -0.5910624686227367,
          0.7786986113887825,
          -1.848868771275443,
          0.030330826783380994,
          -1.029401112403088,
          -2.6580626779617607,
          -0.058881285021454406,
          -1.772581564856256,
          -0.18543431450504402,
          -0.43279509871416905,
          0.5099981510591476,
          -0.19062164665727777,
          -0.7907254562344856,
          -1.6333556445154833,
          -1.3031032701729113,
          0.4024703816185361,
          -0.4166082224438796,
          -0.940914792530273,
          -0.41681164254177244,
          -0.06349392765170235,
          0.2507086107020538,
          -0.08262009981311291,
          0.32882026627040223,
          -0.2243460709434642,
          -1.0572124126050209,
          -1.5635923798655782,
          -1.57339235464806,
          -0.7759237840118166,
          -0.6369012837689373,
          -0.28084769308564017,
          0.8551369202180029,
          0.5221972645127768,
          -1.392466484387782,
          -0.2126207348933887,
          -1.3298159131577025,
          -1.1194415241194045,
          0.027542633302294343,
          -0.988900731819155,
          -2.017932265204174,
          -0.8539507169865506,
          -0.17490854779054174,
          -0.3804846594865455,
          -0.15371997408006519,
          -1.5394645102639812,
          -0.5958607459650314
         ],
         "z": [
          -0.6855551077942382,
          -0.0940668019749135,
          -0.554846534100165,
          -0.01856948235344929,
          -0.39744743760450096,
          0.12679768959169155,
          0.14865602261265642,
          0.2555552499784256,
          -0.5954598892691506,
          0.5428670487940241,
          -0.03981344818563163,
          0.20670349127562349,
          -0.7613802230457316,
          -0.06729984236136105,
          0.19806144915679608,
          -0.5035058317132026,
          0.49283151759658717,
          -0.2986045157302116,
          -0.47940991382614623,
          -0.16858674603688126,
          0.61677262566721,
          -0.2627182829684555,
          -0.366704858931906,
          -0.28996247361138405,
          -0.4447675590494921,
          -0.47214888585182524,
          -0.7268435294994519,
          -0.26145807366185936,
          0.08736810691734063,
          -0.3153191946620146,
          -0.14524173764103523,
          -0.23658142800820237,
          -0.14797288485799712,
          0.10675323371865984,
          0.6675596602128356,
          0.45073148705271854,
          -0.39614226641497563,
          -0.6854343029563259,
          0.29412826193119346,
          0.09344476854004687,
          0.09817189094727755,
          -0.019304654380143227,
          -0.19596807283921525,
          0.1121840532235532,
          0.13411882305647904,
          0.13144837518696123,
          0.1587690026418502,
          -0.27003941643324314,
          0.19612617331397267,
          0.09474993972957202
         ]
        },
        {
         "hovertemplate": "species=virginica<br>pc1=%{x}<br>pc2=%{y}<br>pc3=%{z}<extra></extra>",
         "legendgroup": "virginica",
         "marker": {
          "color": "#00cc96",
          "symbol": "circle"
         },
         "mode": "markers",
         "name": "virginica",
         "scene": "scene",
         "showlegend": true,
         "type": "scatter3d",
         "x": [
          1.847672594309665,
          1.153189808252129,
          2.206349497126595,
          1.4386854023261817,
          1.8678907025555846,
          2.754196708825754,
          0.3583744748416683,
          2.30300589815032,
          2.001735299218917,
          2.2675545991022696,
          1.3659094292022147,
          1.5990645856518702,
          1.8842518537520743,
          1.2530865143775929,
          1.464061522985622,
          1.59180930263853,
          1.471280189465544,
          2.437378482193508,
          3.309141182676082,
          1.2539809866905784,
          2.040496259663041,
          0.9739151144704736,
          2.8980644358432768,
          1.3291936913234927,
          1.704240708519606,
          1.9577276617934358,
          1.1719045079878692,
          1.0197810528162636,
          1.786008861248469,
          1.8647779127074668,
          2.435497391415145,
          2.3160824119611547,
          1.8603714258523174,
          1.1112717256759694,
          1.1974691551180385,
          2.80094940373403,
          1.5801552485205383,
          1.3470444243548014,
          0.9234329777663848,
          1.8535519840664418,
          2.0161572006777604,
          1.9031168585994886,
          1.153189808252129,
          2.0433084392878103,
          2.0016909669349996,
          1.8705220714601256,
          1.5584918907237175,
          1.5208450639985909,
          1.3763911906419284,
          0.9592985756160385
         ],
         "y": [
          0.8716966617734129,
          -0.7013261138565758,
          0.5544701049349231,
          -0.05001052226888551,
          0.2911928017611695,
          0.7884322063548451,
          -1.5600945839772895,
          0.4095166952219434,
          -0.7238653593126597,
          1.9214429914653561,
          0.6939480398041613,
          -0.42824883590033985,
          0.41433275795008434,
          -1.1673913352452463,
          -0.4441475694791234,
          0.6770353716018518,
          0.25319247196681577,
          2.5567573414948024,
          -0.002361320102083099,
          -1.7175838442659785,
          0.9073987650150525,
          -0.5711743763662663,
          0.3977913591718679,
          -0.48676054190372425,
          1.0141484248357844,
          1.0033345154297777,
          -0.31889661731056795,
          0.06554296309664813,
          -0.19327279985689147,
          0.5553815315789895,
          0.24665446806897398,
          2.6261838690226296,
          -0.18467239440998337,
          -0.29598610243039036,
          -0.8171677419136166,
          0.8447481937849741,
          1.0724744961271224,
          0.42225596589554654,
          0.019230370546893277,
          0.6724227289716039,
          0.6103970375551131,
          0.6860248318586999,
          -0.7013261138565758,
          0.8646848804720191,
          1.048550046623417,
          0.38282183762299804,
          -0.9053136014070667,
          0.2667945748539109,
          1.0163619287948862,
          -0.022283944660566858
         ],
         "z": [
          1.0027609857792792,
          0.5314646350398208,
          -0.20549591009804044,
          0.16339046381870675,
          0.39400433318681416,
          -0.5862327043799545,
          0.9909998953229918,
          -0.6541666870038321,
          -0.39407044826972437,
          0.39251765781193143,
          0.2832795160183275,
          0.02330408212213294,
          0.024548553964213713,
          0.5821302708905566,
          1.0041105249947542,
          0.636650720962422,
          0.03665750918367635,
          -0.1342000817469262,
          -0.7069339592752071,
          -0.2646220838822471,
          0.23187811428391836,
          0.829503781073396,
          -0.8609268420176831,
          -0.004707349333497909,
          0.2959578765436419,
          -0.4228170517520495,
          0.13065190995584366,
          0.33804216962299516,
          0.2700025257687444,
          -0.7175106833798798,
          -0.7302340057881268,
          -0.4996195425630414,
          0.3533302786703819,
          -0.1826596076606023,
          -0.1632137815118373,
          -0.5470009572124567,
          0.9433926084622707,
          0.18002870593854728,
          0.4173943034655894,
          -0.01482032936269295,
          0.4259149468895265,
          0.1277993640439905,
          0.531464635039821,
          0.33526606052310415,
          0.6292688881501907,
          0.2545323186790238,
          -0.02538190985982839,
          0.1792772025903606,
          0.931405051937697,
          0.5287941871703032
         ]
        }
       ],
       "layout": {
        "height": 800,
        "legend": {
         "title": {
          "text": "species"
         },
         "tracegroupgap": 0
        },
        "scene": {
         "domain": {
          "x": [
           0,
           1
          ],
          "y": [
           0,
           1
          ]
         },
         "xaxis": {
          "title": {
           "text": "pc1"
          }
         },
         "yaxis": {
          "title": {
           "text": "pc2"
          }
         },
         "zaxis": {
          "title": {
           "text": "pc3"
          }
         }
        },
        "template": {
         "data": {
          "bar": [
           {
            "error_x": {
             "color": "#f2f5fa"
            },
            "error_y": {
             "color": "#f2f5fa"
            },
            "marker": {
             "line": {
              "color": "rgb(17,17,17)",
              "width": 0.5
             },
             "pattern": {
              "fillmode": "overlay",
              "size": 10,
              "solidity": 0.2
             }
            },
            "type": "bar"
           }
          ],
          "barpolar": [
           {
            "marker": {
             "line": {
              "color": "rgb(17,17,17)",
              "width": 0.5
             },
             "pattern": {
              "fillmode": "overlay",
              "size": 10,
              "solidity": 0.2
             }
            },
            "type": "barpolar"
           }
          ],
          "carpet": [
           {
            "aaxis": {
             "endlinecolor": "#A2B1C6",
             "gridcolor": "#506784",
             "linecolor": "#506784",
             "minorgridcolor": "#506784",
             "startlinecolor": "#A2B1C6"
            },
            "baxis": {
             "endlinecolor": "#A2B1C6",
             "gridcolor": "#506784",
             "linecolor": "#506784",
             "minorgridcolor": "#506784",
             "startlinecolor": "#A2B1C6"
            },
            "type": "carpet"
           }
          ],
          "choropleth": [
           {
            "colorbar": {
             "outlinewidth": 0,
             "ticks": ""
            },
            "type": "choropleth"
           }
          ],
          "contour": [
           {
            "colorbar": {
             "outlinewidth": 0,
             "ticks": ""
            },
            "colorscale": [
             [
              0,
              "#0d0887"
             ],
             [
              0.1111111111111111,
              "#46039f"
             ],
             [
              0.2222222222222222,
              "#7201a8"
             ],
             [
              0.3333333333333333,
              "#9c179e"
             ],
             [
              0.4444444444444444,
              "#bd3786"
             ],
             [
              0.5555555555555556,
              "#d8576b"
             ],
             [
              0.6666666666666666,
              "#ed7953"
             ],
             [
              0.7777777777777778,
              "#fb9f3a"
             ],
             [
              0.8888888888888888,
              "#fdca26"
             ],
             [
              1,
              "#f0f921"
             ]
            ],
            "type": "contour"
           }
          ],
          "contourcarpet": [
           {
            "colorbar": {
             "outlinewidth": 0,
             "ticks": ""
            },
            "type": "contourcarpet"
           }
          ],
          "heatmap": [
           {
            "colorbar": {
             "outlinewidth": 0,
             "ticks": ""
            },
            "colorscale": [
             [
              0,
              "#0d0887"
             ],
             [
              0.1111111111111111,
              "#46039f"
             ],
             [
              0.2222222222222222,
              "#7201a8"
             ],
             [
              0.3333333333333333,
              "#9c179e"
             ],
             [
              0.4444444444444444,
              "#bd3786"
             ],
             [
              0.5555555555555556,
              "#d8576b"
             ],
             [
              0.6666666666666666,
              "#ed7953"
             ],
             [
              0.7777777777777778,
              "#fb9f3a"
             ],
             [
              0.8888888888888888,
              "#fdca26"
             ],
             [
              1,
              "#f0f921"
             ]
            ],
            "type": "heatmap"
           }
          ],
          "heatmapgl": [
           {
            "colorbar": {
             "outlinewidth": 0,
             "ticks": ""
            },
            "colorscale": [
             [
              0,
              "#0d0887"
             ],
             [
              0.1111111111111111,
              "#46039f"
             ],
             [
              0.2222222222222222,
              "#7201a8"
             ],
             [
              0.3333333333333333,
              "#9c179e"
             ],
             [
              0.4444444444444444,
              "#bd3786"
             ],
             [
              0.5555555555555556,
              "#d8576b"
             ],
             [
              0.6666666666666666,
              "#ed7953"
             ],
             [
              0.7777777777777778,
              "#fb9f3a"
             ],
             [
              0.8888888888888888,
              "#fdca26"
             ],
             [
              1,
              "#f0f921"
             ]
            ],
            "type": "heatmapgl"
           }
          ],
          "histogram": [
           {
            "marker": {
             "pattern": {
              "fillmode": "overlay",
              "size": 10,
              "solidity": 0.2
             }
            },
            "type": "histogram"
           }
          ],
          "histogram2d": [
           {
            "colorbar": {
             "outlinewidth": 0,
             "ticks": ""
            },
            "colorscale": [
             [
              0,
              "#0d0887"
             ],
             [
              0.1111111111111111,
              "#46039f"
             ],
             [
              0.2222222222222222,
              "#7201a8"
             ],
             [
              0.3333333333333333,
              "#9c179e"
             ],
             [
              0.4444444444444444,
              "#bd3786"
             ],
             [
              0.5555555555555556,
              "#d8576b"
             ],
             [
              0.6666666666666666,
              "#ed7953"
             ],
             [
              0.7777777777777778,
              "#fb9f3a"
             ],
             [
              0.8888888888888888,
              "#fdca26"
             ],
             [
              1,
              "#f0f921"
             ]
            ],
            "type": "histogram2d"
           }
          ],
          "histogram2dcontour": [
           {
            "colorbar": {
             "outlinewidth": 0,
             "ticks": ""
            },
            "colorscale": [
             [
              0,
              "#0d0887"
             ],
             [
              0.1111111111111111,
              "#46039f"
             ],
             [
              0.2222222222222222,
              "#7201a8"
             ],
             [
              0.3333333333333333,
              "#9c179e"
             ],
             [
              0.4444444444444444,
              "#bd3786"
             ],
             [
              0.5555555555555556,
              "#d8576b"
             ],
             [
              0.6666666666666666,
              "#ed7953"
             ],
             [
              0.7777777777777778,
              "#fb9f3a"
             ],
             [
              0.8888888888888888,
              "#fdca26"
             ],
             [
              1,
              "#f0f921"
             ]
            ],
            "type": "histogram2dcontour"
           }
          ],
          "mesh3d": [
           {
            "colorbar": {
             "outlinewidth": 0,
             "ticks": ""
            },
            "type": "mesh3d"
           }
          ],
          "parcoords": [
           {
            "line": {
             "colorbar": {
              "outlinewidth": 0,
              "ticks": ""
             }
            },
            "type": "parcoords"
           }
          ],
          "pie": [
           {
            "automargin": true,
            "type": "pie"
           }
          ],
          "scatter": [
           {
            "marker": {
             "line": {
              "color": "#283442"
             }
            },
            "type": "scatter"
           }
          ],
          "scatter3d": [
           {
            "line": {
             "colorbar": {
              "outlinewidth": 0,
              "ticks": ""
             }
            },
            "marker": {
             "colorbar": {
              "outlinewidth": 0,
              "ticks": ""
             }
            },
            "type": "scatter3d"
           }
          ],
          "scattercarpet": [
           {
            "marker": {
             "colorbar": {
              "outlinewidth": 0,
              "ticks": ""
             }
            },
            "type": "scattercarpet"
           }
          ],
          "scattergeo": [
           {
            "marker": {
             "colorbar": {
              "outlinewidth": 0,
              "ticks": ""
             }
            },
            "type": "scattergeo"
           }
          ],
          "scattergl": [
           {
            "marker": {
             "line": {
              "color": "#283442"
             }
            },
            "type": "scattergl"
           }
          ],
          "scattermapbox": [
           {
            "marker": {
             "colorbar": {
              "outlinewidth": 0,
              "ticks": ""
             }
            },
            "type": "scattermapbox"
           }
          ],
          "scatterpolar": [
           {
            "marker": {
             "colorbar": {
              "outlinewidth": 0,
              "ticks": ""
             }
            },
            "type": "scatterpolar"
           }
          ],
          "scatterpolargl": [
           {
            "marker": {
             "colorbar": {
              "outlinewidth": 0,
              "ticks": ""
             }
            },
            "type": "scatterpolargl"
           }
          ],
          "scatterternary": [
           {
            "marker": {
             "colorbar": {
              "outlinewidth": 0,
              "ticks": ""
             }
            },
            "type": "scatterternary"
           }
          ],
          "surface": [
           {
            "colorbar": {
             "outlinewidth": 0,
             "ticks": ""
            },
            "colorscale": [
             [
              0,
              "#0d0887"
             ],
             [
              0.1111111111111111,
              "#46039f"
             ],
             [
              0.2222222222222222,
              "#7201a8"
             ],
             [
              0.3333333333333333,
              "#9c179e"
             ],
             [
              0.4444444444444444,
              "#bd3786"
             ],
             [
              0.5555555555555556,
              "#d8576b"
             ],
             [
              0.6666666666666666,
              "#ed7953"
             ],
             [
              0.7777777777777778,
              "#fb9f3a"
             ],
             [
              0.8888888888888888,
              "#fdca26"
             ],
             [
              1,
              "#f0f921"
             ]
            ],
            "type": "surface"
           }
          ],
          "table": [
           {
            "cells": {
             "fill": {
              "color": "#506784"
             },
             "line": {
              "color": "rgb(17,17,17)"
             }
            },
            "header": {
             "fill": {
              "color": "#2a3f5f"
             },
             "line": {
              "color": "rgb(17,17,17)"
             }
            },
            "type": "table"
           }
          ]
         },
         "layout": {
          "annotationdefaults": {
           "arrowcolor": "#f2f5fa",
           "arrowhead": 0,
           "arrowwidth": 1
          },
          "autotypenumbers": "strict",
          "coloraxis": {
           "colorbar": {
            "outlinewidth": 0,
            "ticks": ""
           }
          },
          "colorscale": {
           "diverging": [
            [
             0,
             "#8e0152"
            ],
            [
             0.1,
             "#c51b7d"
            ],
            [
             0.2,
             "#de77ae"
            ],
            [
             0.3,
             "#f1b6da"
            ],
            [
             0.4,
             "#fde0ef"
            ],
            [
             0.5,
             "#f7f7f7"
            ],
            [
             0.6,
             "#e6f5d0"
            ],
            [
             0.7,
             "#b8e186"
            ],
            [
             0.8,
             "#7fbc41"
            ],
            [
             0.9,
             "#4d9221"
            ],
            [
             1,
             "#276419"
            ]
           ],
           "sequential": [
            [
             0,
             "#0d0887"
            ],
            [
             0.1111111111111111,
             "#46039f"
            ],
            [
             0.2222222222222222,
             "#7201a8"
            ],
            [
             0.3333333333333333,
             "#9c179e"
            ],
            [
             0.4444444444444444,
             "#bd3786"
            ],
            [
             0.5555555555555556,
             "#d8576b"
            ],
            [
             0.6666666666666666,
             "#ed7953"
            ],
            [
             0.7777777777777778,
             "#fb9f3a"
            ],
            [
             0.8888888888888888,
             "#fdca26"
            ],
            [
             1,
             "#f0f921"
            ]
           ],
           "sequentialminus": [
            [
             0,
             "#0d0887"
            ],
            [
             0.1111111111111111,
             "#46039f"
            ],
            [
             0.2222222222222222,
             "#7201a8"
            ],
            [
             0.3333333333333333,
             "#9c179e"
            ],
            [
             0.4444444444444444,
             "#bd3786"
            ],
            [
             0.5555555555555556,
             "#d8576b"
            ],
            [
             0.6666666666666666,
             "#ed7953"
            ],
            [
             0.7777777777777778,
             "#fb9f3a"
            ],
            [
             0.8888888888888888,
             "#fdca26"
            ],
            [
             1,
             "#f0f921"
            ]
           ]
          },
          "colorway": [
           "#636efa",
           "#EF553B",
           "#00cc96",
           "#ab63fa",
           "#FFA15A",
           "#19d3f3",
           "#FF6692",
           "#B6E880",
           "#FF97FF",
           "#FECB52"
          ],
          "font": {
           "color": "#f2f5fa"
          },
          "geo": {
           "bgcolor": "rgb(17,17,17)",
           "lakecolor": "rgb(17,17,17)",
           "landcolor": "rgb(17,17,17)",
           "showlakes": true,
           "showland": true,
           "subunitcolor": "#506784"
          },
          "hoverlabel": {
           "align": "left"
          },
          "hovermode": "closest",
          "mapbox": {
           "style": "dark"
          },
          "paper_bgcolor": "rgb(17,17,17)",
          "plot_bgcolor": "rgb(17,17,17)",
          "polar": {
           "angularaxis": {
            "gridcolor": "#506784",
            "linecolor": "#506784",
            "ticks": ""
           },
           "bgcolor": "rgb(17,17,17)",
           "radialaxis": {
            "gridcolor": "#506784",
            "linecolor": "#506784",
            "ticks": ""
           }
          },
          "scene": {
           "xaxis": {
            "backgroundcolor": "rgb(17,17,17)",
            "gridcolor": "#506784",
            "gridwidth": 2,
            "linecolor": "#506784",
            "showbackground": true,
            "ticks": "",
            "zerolinecolor": "#C8D4E3"
           },
           "yaxis": {
            "backgroundcolor": "rgb(17,17,17)",
            "gridcolor": "#506784",
            "gridwidth": 2,
            "linecolor": "#506784",
            "showbackground": true,
            "ticks": "",
            "zerolinecolor": "#C8D4E3"
           },
           "zaxis": {
            "backgroundcolor": "rgb(17,17,17)",
            "gridcolor": "#506784",
            "gridwidth": 2,
            "linecolor": "#506784",
            "showbackground": true,
            "ticks": "",
            "zerolinecolor": "#C8D4E3"
           }
          },
          "shapedefaults": {
           "line": {
            "color": "#f2f5fa"
           }
          },
          "sliderdefaults": {
           "bgcolor": "#C8D4E3",
           "bordercolor": "rgb(17,17,17)",
           "borderwidth": 1,
           "tickwidth": 0
          },
          "ternary": {
           "aaxis": {
            "gridcolor": "#506784",
            "linecolor": "#506784",
            "ticks": ""
           },
           "baxis": {
            "gridcolor": "#506784",
            "linecolor": "#506784",
            "ticks": ""
           },
           "bgcolor": "rgb(17,17,17)",
           "caxis": {
            "gridcolor": "#506784",
            "linecolor": "#506784",
            "ticks": ""
           }
          },
          "title": {
           "x": 0.05
          },
          "updatemenudefaults": {
           "bgcolor": "#506784",
           "borderwidth": 0
          },
          "xaxis": {
           "automargin": true,
           "gridcolor": "#283442",
           "linecolor": "#506784",
           "ticks": "",
           "title": {
            "standoff": 15
           },
           "zerolinecolor": "#283442",
           "zerolinewidth": 2
          },
          "yaxis": {
           "automargin": true,
           "gridcolor": "#283442",
           "linecolor": "#506784",
           "ticks": "",
           "title": {
            "standoff": 15
           },
           "zerolinecolor": "#283442",
           "zerolinewidth": 2
          }
         }
        },
        "title": {
         "text": "Kernel PCA"
        }
       }
      }
     },
     "metadata": {},
     "output_type": "display_data"
    }
   ],
   "source": [
    "from sklearn.pipeline import Pipeline\n",
    "\n",
    "dr = Pipeline(steps=[\n",
    "    (\"scaler\", StandardScaler()),\n",
    "    (\"pca\", KernelPCA(n_components=3))\n",
    "])\n",
    "X_dr = dr.fit_transform(X)\n",
    "X_dr = pd.DataFrame(X_dr, columns=[\"pc1\", \"pc2\", \"pc3\"])\n",
    "X_dr = pd.concat([X_dr, iris_df[\"species\"]], axis=1)\n",
    "px.scatter_3d(X_dr, x=\"pc1\", y=\"pc2\", z=\"pc3\", color=\"species\", title=\"Kernel PCA\", height=800, template=\"plotly_dark\")"
   ]
  },
  {
   "cell_type": "code",
   "execution_count": 45,
   "metadata": {},
   "outputs": [
    {
     "data": {
      "application/vnd.plotly.v1+json": {
       "config": {
        "plotlyServerURL": "https://plot.ly"
       },
       "data": [
        {
         "hovertemplate": "species=setosa<br>lda1=%{x}<br>lda2=%{y}<extra></extra>",
         "legendgroup": "setosa",
         "marker": {
          "color": "#636efa",
          "symbol": "circle"
         },
         "mode": "markers",
         "name": "setosa",
         "orientation": "v",
         "showlegend": true,
         "type": "scatter",
         "x": [
          8.084953201872505,
          7.147162896290329,
          7.511377889489675,
          6.837675605851525,
          8.15781367059793,
          7.723630867041721,
          7.235146620678869,
          7.629744973982853,
          6.582741317317715,
          7.368841163196141,
          8.42181434211418,
          7.247397214818625,
          7.350621046803484,
          7.596468955509652,
          9.869365877491001,
          9.180336135828757,
          8.59760709003571,
          7.799568199651483,
          8.100009103953047,
          8.045436105202853,
          7.520464269317318,
          7.605263782548542,
          8.70408248676046,
          6.263741387097368,
          6.591915047573134,
          6.792101636501198,
          6.8404809137923115,
          7.948385997831872,
          8.01209273314708,
          6.855895722244183,
          6.783035253518758,
          7.386682376372269,
          9.162494922652629,
          9.496171851736989,
          7.368841163196141,
          7.975652500361768,
          8.631154664452461,
          7.368841163196141,
          6.956022693499501,
          7.7116718256907175,
          7.936135403692115,
          5.669053299953318,
          7.26559733436608,
          6.424498229783557,
          6.886074879987842,
          6.779851042361441,
          8.112327051675377,
          7.210956982033313,
          8.339887490406316,
          7.693451709298062
         ],
         "xaxis": "x",
         "y": [
          -0.3284542184221736,
          0.7554732599151327,
          0.2380783203070863,
          0.6428847596364083,
          -0.540639348611916,
          -1.4823234493674649,
          -0.3771536964267702,
          -0.016672458321413605,
          0.9873742421522426,
          0.9136272938544302,
          -0.6762296762792356,
          0.08292417158960443,
          1.039359695498066,
          0.7767155345185196,
          -1.6148609319227432,
          -2.7555862615031232,
          -1.8544221662817126,
          -0.6090546786638801,
          -0.9961098096184714,
          -1.162443316028228,
          0.156232998770799,
          -1.227572670738965,
          -0.8995941641612523,
          -0.46023935039966657,
          0.36199820927529014,
          0.938236643031029,
          -0.4848486995762641,
          -0.2387155145348393,
          -0.11626908823243119,
          0.517152357992772,
          0.7293374881825144,
          -0.5910172801697381,
          -1.2509416874789538,
          -1.8498958585038756,
          0.9136272938544302,
          0.13519571505484007,
          -0.4346227990156467,
          0.9136272938544302,
          0.6788784573927104,
          -0.01995843366264137,
          -0.6987933825512139,
          1.9032897605265673,
          0.24793624633077005,
          -1.261520725590647,
          -1.0709450593556868,
          0.478158775014654,
          -0.788818176557959,
          0.3343889748768757,
          -0.6729437009380078,
          0.10577396798099493
         ],
         "yaxis": "y"
        },
        {
         "hovertemplate": "species=versicolor<br>lda1=%{x}<br>lda2=%{y}<extra></extra>",
         "legendgroup": "versicolor",
         "marker": {
          "color": "#EF553B",
          "symbol": "circle"
         },
         "mode": "markers",
         "name": "versicolor",
         "orientation": "v",
         "showlegend": true,
         "type": "scatter",
         "x": [
          -1.4577224433306086,
          -1.7976804443018237,
          -2.41680972918978,
          -2.2648677103876813,
          -2.553396930075614,
          -2.419547683547992,
          -2.4471930892944176,
          -0.21602810329903335,
          -1.7459127534924166,
          -1.9583899302506418,
          -1.190238644821321,
          -1.8614071764622349,
          -1.1538657656185811,
          -2.659426070001261,
          -0.38024071308609114,
          -1.2028081516420002,
          -2.762669898831322,
          -0.7622769226163607,
          -3.509407352050447,
          -1.084102157622697,
          -3.718951876749706,
          -0.9993699979740461,
          -3.8370947620367057,
          -2.243443385992507,
          -1.2542842896626534,
          -1.439522323783155,
          -2.4592194842279933,
          -3.5247148132293393,
          -2.5897498124331517,
          0.31197323973346924,
          -1.1023222740153535,
          -0.598443216045835,
          -0.8960588155614096,
          -4.495673790011736,
          -2.9265236022470513,
          -2.101198212487727,
          -2.1436753211085144,
          -2.4834291197187537,
          -1.317923671395288,
          -1.9552930695211026,
          -2.389096969860782,
          -2.2861446938194727,
          -1.2693401917431968,
          -0.28888857202445795,
          -2.000779688443654,
          -1.1691058732148993,
          -1.6092781958692108,
          -1.4181379930783833,
          0.4727100855744555,
          -1.5455714605540016
         ],
         "xaxis": "x",
         "y": [
          -0.04186554167052339,
          -0.48879950832198704,
          0.08234043741709236,
          1.5760917438683986,
          0.46282361768922803,
          0.9572876616739021,
          -0.7955357402963107,
          1.5709651165099805,
          0.8052674573004426,
          0.35044010829793276,
          2.6156129217497566,
          -0.3205014582395928,
          2.6169343534183476,
          0.6341215529934388,
          -0.09211958157289825,
          -0.0956105478015554,
          -0.03156949453022322,
          1.6391754556745142,
          1.6724834976701697,
          1.6100397987200803,
          -1.0350969746552807,
          0.4790203641661804,
          1.3948829226502806,
          1.4107935790078214,
          0.5327653702972124,
          0.1231465330706428,
          0.9196155103643753,
          -0.1637927476243323,
          0.17075770963583553,
          1.2997844611753409,
          1.7357722003637166,
          1.9233479813768615,
          0.8919251767339781,
          0.8792475358274403,
          -0.02499754384776736,
          -1.1871982782607216,
          -0.097136970357576,
          1.9219026580528238,
          0.15753270903894107,
          1.145149532806458,
          1.5823776044314426,
          0.3256257682339057,
          1.2004209614935104,
          1.7831502466997227,
          0.8969707048604136,
          0.5278718731679823,
          0.46274251845724595,
          0.5393373209796682,
          0.7892475623691618,
          0.5851889447596538
         ],
         "yaxis": "y"
        },
        {
         "hovertemplate": "species=virginica<br>lda1=%{x}<br>lda2=%{y}<extra></extra>",
         "legendgroup": "virginica",
         "marker": {
          "color": "#00cc96",
          "symbol": "circle"
         },
         "mode": "markers",
         "name": "virginica",
         "orientation": "v",
         "showlegend": true,
         "type": "scatter",
         "x": [
          -7.8560808340140795,
          -5.515682500090531,
          -6.304993917018445,
          -5.603558877206094,
          -6.863445973738157,
          -7.424818048718603,
          -4.680864467394866,
          -6.313748750366929,
          -6.331988863604787,
          -6.872871263091924,
          -4.453642938190052,
          -5.461109501340336,
          -5.676798249148049,
          -5.9740749391375,
          -6.787820190762351,
          -5.828712908057977,
          -5.066423797608578,
          -6.608471691513943,
          -9.18829265043143,
          -4.765731334208665,
          -6.293054872512642,
          -5.373145773797001,
          -7.585574891404792,
          -4.383675127833192,
          -5.731351251053041,
          -5.275831473529433,
          -4.092320603359269,
          -4.083166869949054,
          -6.532574352594584,
          -4.577647998456973,
          -6.2350061098163785,
          -5.218365816410677,
          -6.817959354815605,
          -3.8097209122338307,
          -5.090234533037604,
          -6.821190922710292,
          -6.541932288365778,
          -4.993563328883153,
          -3.9465996659084204,
          -5.221590021258398,
          -6.678586842834186,
          -5.136877858454946,
          -5.515682500090531,
          -6.811969835717504,
          -6.872891259937128,
          -5.674012938052464,
          -5.197128826669289,
          -4.981711634805129,
          -5.901486026355626,
          -4.684008684861776
         ],
         "xaxis": "x",
         "y": [
          -2.1116190525003615,
          0.04401810578477756,
          -0.4621163768990115,
          0.3423698744012143,
          -0.8160256643219133,
          0.17262650099478274,
          0.5075869400298102,
          0.9606828755888697,
          1.377159753617307,
          -2.694581467935762,
          -1.3369397095003752,
          0.2103516121945342,
          -0.8243571677895765,
          0.10462115271767773,
          -1.5744553009547237,
          -1.9894057564271417,
          0.027302138959226552,
          -1.7420040996073498,
          0.7490980649797098,
          2.144178844495436,
          -1.6337369162190327,
          -0.6315308677625662,
          0.9739078761857642,
          0.12213933086322064,
          -1.2814351505841344,
          0.03848149665150084,
          -0.18307047855508313,
          -0.5177020350472334,
          -0.2872463761341626,
          0.84457526973973,
          0.706218187079782,
          -1.4664491674920785,
          -0.5678468363758691,
          0.9345189645144939,
          2.117756982643406,
          -0.8569837909726677,
          -2.418588414703874,
          -0.18488299123051583,
          -0.607440738934568,
          -1.1361389278903364,
          -1.7853189994758756,
          -1.9764138860594351,
          0.04401810578477756,
          -1.4444015824206806,
          -2.403836991550959,
          -1.6613461506174465,
          0.365505760912017,
          -0.8129728192098722,
          -2.320751337578063,
          -0.3250807259076544
         ],
         "yaxis": "y"
        }
       ],
       "layout": {
        "height": 600,
        "legend": {
         "title": {
          "text": "species"
         },
         "tracegroupgap": 0
        },
        "template": {
         "data": {
          "bar": [
           {
            "error_x": {
             "color": "#f2f5fa"
            },
            "error_y": {
             "color": "#f2f5fa"
            },
            "marker": {
             "line": {
              "color": "rgb(17,17,17)",
              "width": 0.5
             },
             "pattern": {
              "fillmode": "overlay",
              "size": 10,
              "solidity": 0.2
             }
            },
            "type": "bar"
           }
          ],
          "barpolar": [
           {
            "marker": {
             "line": {
              "color": "rgb(17,17,17)",
              "width": 0.5
             },
             "pattern": {
              "fillmode": "overlay",
              "size": 10,
              "solidity": 0.2
             }
            },
            "type": "barpolar"
           }
          ],
          "carpet": [
           {
            "aaxis": {
             "endlinecolor": "#A2B1C6",
             "gridcolor": "#506784",
             "linecolor": "#506784",
             "minorgridcolor": "#506784",
             "startlinecolor": "#A2B1C6"
            },
            "baxis": {
             "endlinecolor": "#A2B1C6",
             "gridcolor": "#506784",
             "linecolor": "#506784",
             "minorgridcolor": "#506784",
             "startlinecolor": "#A2B1C6"
            },
            "type": "carpet"
           }
          ],
          "choropleth": [
           {
            "colorbar": {
             "outlinewidth": 0,
             "ticks": ""
            },
            "type": "choropleth"
           }
          ],
          "contour": [
           {
            "colorbar": {
             "outlinewidth": 0,
             "ticks": ""
            },
            "colorscale": [
             [
              0,
              "#0d0887"
             ],
             [
              0.1111111111111111,
              "#46039f"
             ],
             [
              0.2222222222222222,
              "#7201a8"
             ],
             [
              0.3333333333333333,
              "#9c179e"
             ],
             [
              0.4444444444444444,
              "#bd3786"
             ],
             [
              0.5555555555555556,
              "#d8576b"
             ],
             [
              0.6666666666666666,
              "#ed7953"
             ],
             [
              0.7777777777777778,
              "#fb9f3a"
             ],
             [
              0.8888888888888888,
              "#fdca26"
             ],
             [
              1,
              "#f0f921"
             ]
            ],
            "type": "contour"
           }
          ],
          "contourcarpet": [
           {
            "colorbar": {
             "outlinewidth": 0,
             "ticks": ""
            },
            "type": "contourcarpet"
           }
          ],
          "heatmap": [
           {
            "colorbar": {
             "outlinewidth": 0,
             "ticks": ""
            },
            "colorscale": [
             [
              0,
              "#0d0887"
             ],
             [
              0.1111111111111111,
              "#46039f"
             ],
             [
              0.2222222222222222,
              "#7201a8"
             ],
             [
              0.3333333333333333,
              "#9c179e"
             ],
             [
              0.4444444444444444,
              "#bd3786"
             ],
             [
              0.5555555555555556,
              "#d8576b"
             ],
             [
              0.6666666666666666,
              "#ed7953"
             ],
             [
              0.7777777777777778,
              "#fb9f3a"
             ],
             [
              0.8888888888888888,
              "#fdca26"
             ],
             [
              1,
              "#f0f921"
             ]
            ],
            "type": "heatmap"
           }
          ],
          "heatmapgl": [
           {
            "colorbar": {
             "outlinewidth": 0,
             "ticks": ""
            },
            "colorscale": [
             [
              0,
              "#0d0887"
             ],
             [
              0.1111111111111111,
              "#46039f"
             ],
             [
              0.2222222222222222,
              "#7201a8"
             ],
             [
              0.3333333333333333,
              "#9c179e"
             ],
             [
              0.4444444444444444,
              "#bd3786"
             ],
             [
              0.5555555555555556,
              "#d8576b"
             ],
             [
              0.6666666666666666,
              "#ed7953"
             ],
             [
              0.7777777777777778,
              "#fb9f3a"
             ],
             [
              0.8888888888888888,
              "#fdca26"
             ],
             [
              1,
              "#f0f921"
             ]
            ],
            "type": "heatmapgl"
           }
          ],
          "histogram": [
           {
            "marker": {
             "pattern": {
              "fillmode": "overlay",
              "size": 10,
              "solidity": 0.2
             }
            },
            "type": "histogram"
           }
          ],
          "histogram2d": [
           {
            "colorbar": {
             "outlinewidth": 0,
             "ticks": ""
            },
            "colorscale": [
             [
              0,
              "#0d0887"
             ],
             [
              0.1111111111111111,
              "#46039f"
             ],
             [
              0.2222222222222222,
              "#7201a8"
             ],
             [
              0.3333333333333333,
              "#9c179e"
             ],
             [
              0.4444444444444444,
              "#bd3786"
             ],
             [
              0.5555555555555556,
              "#d8576b"
             ],
             [
              0.6666666666666666,
              "#ed7953"
             ],
             [
              0.7777777777777778,
              "#fb9f3a"
             ],
             [
              0.8888888888888888,
              "#fdca26"
             ],
             [
              1,
              "#f0f921"
             ]
            ],
            "type": "histogram2d"
           }
          ],
          "histogram2dcontour": [
           {
            "colorbar": {
             "outlinewidth": 0,
             "ticks": ""
            },
            "colorscale": [
             [
              0,
              "#0d0887"
             ],
             [
              0.1111111111111111,
              "#46039f"
             ],
             [
              0.2222222222222222,
              "#7201a8"
             ],
             [
              0.3333333333333333,
              "#9c179e"
             ],
             [
              0.4444444444444444,
              "#bd3786"
             ],
             [
              0.5555555555555556,
              "#d8576b"
             ],
             [
              0.6666666666666666,
              "#ed7953"
             ],
             [
              0.7777777777777778,
              "#fb9f3a"
             ],
             [
              0.8888888888888888,
              "#fdca26"
             ],
             [
              1,
              "#f0f921"
             ]
            ],
            "type": "histogram2dcontour"
           }
          ],
          "mesh3d": [
           {
            "colorbar": {
             "outlinewidth": 0,
             "ticks": ""
            },
            "type": "mesh3d"
           }
          ],
          "parcoords": [
           {
            "line": {
             "colorbar": {
              "outlinewidth": 0,
              "ticks": ""
             }
            },
            "type": "parcoords"
           }
          ],
          "pie": [
           {
            "automargin": true,
            "type": "pie"
           }
          ],
          "scatter": [
           {
            "marker": {
             "line": {
              "color": "#283442"
             }
            },
            "type": "scatter"
           }
          ],
          "scatter3d": [
           {
            "line": {
             "colorbar": {
              "outlinewidth": 0,
              "ticks": ""
             }
            },
            "marker": {
             "colorbar": {
              "outlinewidth": 0,
              "ticks": ""
             }
            },
            "type": "scatter3d"
           }
          ],
          "scattercarpet": [
           {
            "marker": {
             "colorbar": {
              "outlinewidth": 0,
              "ticks": ""
             }
            },
            "type": "scattercarpet"
           }
          ],
          "scattergeo": [
           {
            "marker": {
             "colorbar": {
              "outlinewidth": 0,
              "ticks": ""
             }
            },
            "type": "scattergeo"
           }
          ],
          "scattergl": [
           {
            "marker": {
             "line": {
              "color": "#283442"
             }
            },
            "type": "scattergl"
           }
          ],
          "scattermapbox": [
           {
            "marker": {
             "colorbar": {
              "outlinewidth": 0,
              "ticks": ""
             }
            },
            "type": "scattermapbox"
           }
          ],
          "scatterpolar": [
           {
            "marker": {
             "colorbar": {
              "outlinewidth": 0,
              "ticks": ""
             }
            },
            "type": "scatterpolar"
           }
          ],
          "scatterpolargl": [
           {
            "marker": {
             "colorbar": {
              "outlinewidth": 0,
              "ticks": ""
             }
            },
            "type": "scatterpolargl"
           }
          ],
          "scatterternary": [
           {
            "marker": {
             "colorbar": {
              "outlinewidth": 0,
              "ticks": ""
             }
            },
            "type": "scatterternary"
           }
          ],
          "surface": [
           {
            "colorbar": {
             "outlinewidth": 0,
             "ticks": ""
            },
            "colorscale": [
             [
              0,
              "#0d0887"
             ],
             [
              0.1111111111111111,
              "#46039f"
             ],
             [
              0.2222222222222222,
              "#7201a8"
             ],
             [
              0.3333333333333333,
              "#9c179e"
             ],
             [
              0.4444444444444444,
              "#bd3786"
             ],
             [
              0.5555555555555556,
              "#d8576b"
             ],
             [
              0.6666666666666666,
              "#ed7953"
             ],
             [
              0.7777777777777778,
              "#fb9f3a"
             ],
             [
              0.8888888888888888,
              "#fdca26"
             ],
             [
              1,
              "#f0f921"
             ]
            ],
            "type": "surface"
           }
          ],
          "table": [
           {
            "cells": {
             "fill": {
              "color": "#506784"
             },
             "line": {
              "color": "rgb(17,17,17)"
             }
            },
            "header": {
             "fill": {
              "color": "#2a3f5f"
             },
             "line": {
              "color": "rgb(17,17,17)"
             }
            },
            "type": "table"
           }
          ]
         },
         "layout": {
          "annotationdefaults": {
           "arrowcolor": "#f2f5fa",
           "arrowhead": 0,
           "arrowwidth": 1
          },
          "autotypenumbers": "strict",
          "coloraxis": {
           "colorbar": {
            "outlinewidth": 0,
            "ticks": ""
           }
          },
          "colorscale": {
           "diverging": [
            [
             0,
             "#8e0152"
            ],
            [
             0.1,
             "#c51b7d"
            ],
            [
             0.2,
             "#de77ae"
            ],
            [
             0.3,
             "#f1b6da"
            ],
            [
             0.4,
             "#fde0ef"
            ],
            [
             0.5,
             "#f7f7f7"
            ],
            [
             0.6,
             "#e6f5d0"
            ],
            [
             0.7,
             "#b8e186"
            ],
            [
             0.8,
             "#7fbc41"
            ],
            [
             0.9,
             "#4d9221"
            ],
            [
             1,
             "#276419"
            ]
           ],
           "sequential": [
            [
             0,
             "#0d0887"
            ],
            [
             0.1111111111111111,
             "#46039f"
            ],
            [
             0.2222222222222222,
             "#7201a8"
            ],
            [
             0.3333333333333333,
             "#9c179e"
            ],
            [
             0.4444444444444444,
             "#bd3786"
            ],
            [
             0.5555555555555556,
             "#d8576b"
            ],
            [
             0.6666666666666666,
             "#ed7953"
            ],
            [
             0.7777777777777778,
             "#fb9f3a"
            ],
            [
             0.8888888888888888,
             "#fdca26"
            ],
            [
             1,
             "#f0f921"
            ]
           ],
           "sequentialminus": [
            [
             0,
             "#0d0887"
            ],
            [
             0.1111111111111111,
             "#46039f"
            ],
            [
             0.2222222222222222,
             "#7201a8"
            ],
            [
             0.3333333333333333,
             "#9c179e"
            ],
            [
             0.4444444444444444,
             "#bd3786"
            ],
            [
             0.5555555555555556,
             "#d8576b"
            ],
            [
             0.6666666666666666,
             "#ed7953"
            ],
            [
             0.7777777777777778,
             "#fb9f3a"
            ],
            [
             0.8888888888888888,
             "#fdca26"
            ],
            [
             1,
             "#f0f921"
            ]
           ]
          },
          "colorway": [
           "#636efa",
           "#EF553B",
           "#00cc96",
           "#ab63fa",
           "#FFA15A",
           "#19d3f3",
           "#FF6692",
           "#B6E880",
           "#FF97FF",
           "#FECB52"
          ],
          "font": {
           "color": "#f2f5fa"
          },
          "geo": {
           "bgcolor": "rgb(17,17,17)",
           "lakecolor": "rgb(17,17,17)",
           "landcolor": "rgb(17,17,17)",
           "showlakes": true,
           "showland": true,
           "subunitcolor": "#506784"
          },
          "hoverlabel": {
           "align": "left"
          },
          "hovermode": "closest",
          "mapbox": {
           "style": "dark"
          },
          "paper_bgcolor": "rgb(17,17,17)",
          "plot_bgcolor": "rgb(17,17,17)",
          "polar": {
           "angularaxis": {
            "gridcolor": "#506784",
            "linecolor": "#506784",
            "ticks": ""
           },
           "bgcolor": "rgb(17,17,17)",
           "radialaxis": {
            "gridcolor": "#506784",
            "linecolor": "#506784",
            "ticks": ""
           }
          },
          "scene": {
           "xaxis": {
            "backgroundcolor": "rgb(17,17,17)",
            "gridcolor": "#506784",
            "gridwidth": 2,
            "linecolor": "#506784",
            "showbackground": true,
            "ticks": "",
            "zerolinecolor": "#C8D4E3"
           },
           "yaxis": {
            "backgroundcolor": "rgb(17,17,17)",
            "gridcolor": "#506784",
            "gridwidth": 2,
            "linecolor": "#506784",
            "showbackground": true,
            "ticks": "",
            "zerolinecolor": "#C8D4E3"
           },
           "zaxis": {
            "backgroundcolor": "rgb(17,17,17)",
            "gridcolor": "#506784",
            "gridwidth": 2,
            "linecolor": "#506784",
            "showbackground": true,
            "ticks": "",
            "zerolinecolor": "#C8D4E3"
           }
          },
          "shapedefaults": {
           "line": {
            "color": "#f2f5fa"
           }
          },
          "sliderdefaults": {
           "bgcolor": "#C8D4E3",
           "bordercolor": "rgb(17,17,17)",
           "borderwidth": 1,
           "tickwidth": 0
          },
          "ternary": {
           "aaxis": {
            "gridcolor": "#506784",
            "linecolor": "#506784",
            "ticks": ""
           },
           "baxis": {
            "gridcolor": "#506784",
            "linecolor": "#506784",
            "ticks": ""
           },
           "bgcolor": "rgb(17,17,17)",
           "caxis": {
            "gridcolor": "#506784",
            "linecolor": "#506784",
            "ticks": ""
           }
          },
          "title": {
           "x": 0.05
          },
          "updatemenudefaults": {
           "bgcolor": "#506784",
           "borderwidth": 0
          },
          "xaxis": {
           "automargin": true,
           "gridcolor": "#283442",
           "linecolor": "#506784",
           "ticks": "",
           "title": {
            "standoff": 15
           },
           "zerolinecolor": "#283442",
           "zerolinewidth": 2
          },
          "yaxis": {
           "automargin": true,
           "gridcolor": "#283442",
           "linecolor": "#506784",
           "ticks": "",
           "title": {
            "standoff": 15
           },
           "zerolinecolor": "#283442",
           "zerolinewidth": 2
          }
         }
        },
        "title": {
         "text": "LDA"
        },
        "xaxis": {
         "anchor": "y",
         "domain": [
          0,
          1
         ],
         "title": {
          "text": "lda1"
         }
        },
        "yaxis": {
         "anchor": "x",
         "domain": [
          0,
          1
         ],
         "title": {
          "text": "lda2"
         }
        }
       }
      }
     },
     "metadata": {},
     "output_type": "display_data"
    }
   ],
   "source": [
    "dr2 = Pipeline(steps=[\n",
    "    (\"scaler\", StandardScaler()),\n",
    "    (\"lda\", LinearDiscriminantAnalysis(n_components=2))\n",
    "])\n",
    "X_dr2 = dr2.fit_transform(X, iris_df[\"species_id\"])\n",
    "X_dr2 = pd.DataFrame(X_dr2, columns=[\"lda1\", \"lda2\"])\n",
    "X_dr2 = pd.concat([X_dr2, iris_df[\"species\"]], axis=1)\n",
    "X_dr2.plot.scatter(x=\"lda1\", y=\"lda2\", color=\"species\", title=\"LDA\", template=\"plotly_dark\", height=600)\n",
    "\n",
    "# X_dr2.to_csv(\"iris_lda.csv\", index=False)"
   ]
  },
  {
   "cell_type": "code",
   "execution_count": 41,
   "metadata": {},
   "outputs": [
    {
     "data": {
      "application/vnd.plotly.v1+json": {
       "config": {
        "plotlyServerURL": "https://plot.ly"
       },
       "data": [
        {
         "hovertemplate": "species=setosa<br>tsne1=%{x}<br>tsne2=%{y}<br>tsne3=%{z}<extra></extra>",
         "legendgroup": "setosa",
         "marker": {
          "color": "#636efa",
          "symbol": "circle"
         },
         "mode": "markers",
         "name": "setosa",
         "scene": "scene",
         "showlegend": true,
         "type": "scatter3d",
         "x": [
          -30.125195,
          -43.71459,
          -36.653584,
          -47.07483,
          -13.208102,
          -20.10209,
          -18.792753,
          -45.624256,
          -59.063133,
          -63.464005,
          -37.63621,
          -25.983408,
          -54.288494,
          -42.06777,
          -4.711032,
          -15.249889,
          -24.412848,
          -25.756989,
          -2.2588365,
          -8.5278015,
          -44.52981,
          -15.543215,
          -16.986414,
          -44.63511,
          -46.473736,
          -61.48463,
          -30.842505,
          -33.97095,
          -43.927235,
          -33.211555,
          -54.54939,
          -53.110508,
          -30.43166,
          -12.195459,
          -46.756214,
          -35.192997,
          -43.991158,
          -46.756214,
          -46.534164,
          78.54508,
          -26.476204,
          -70.80193,
          -27.533487,
          -26.115639,
          -23.85452,
          -64.48941,
          -13.86069,
          -28.87806,
          -23.693127,
          -47.391792
         ],
         "y": [
          26.496618,
          -6.3903036,
          1.053423,
          -14.342982,
          27.14017,
          61.239857,
          -0.30215096,
          21.276451,
          -11.664234,
          14.725205,
          56.604557,
          6.1352043,
          9.755786,
          -17.908125,
          65.7732,
          82.753876,
          64.39526,
          43.017548,
          59.80579,
          43.63326,
          41.145226,
          28.284473,
          13.956257,
          21.64169,
          1.6425127,
          1.9778515,
          14.300962,
          36.9614,
          40.442608,
          -11.465989,
          -15.129728,
          42.476795,
          74.16792,
          75.50427,
          4.6673884,
          19.230528,
          58.126514,
          4.6673884,
          1.3680583,
          -18.016998,
          35.265347,
          5.4940424,
          -4.2665625,
          22.777296,
          42.967003,
          -3.906649,
          42.12056,
          -16.196175,
          52.672993,
          26.066381
         ],
         "z": [
          12.149426,
          3.7907028,
          36.56597,
          32.618202,
          16.976254,
          -20.72718,
          30.280268,
          5.269429,
          46.931084,
          19.003704,
          -11.874206,
          12.487208,
          36.757,
          54.694508,
          8.704685,
          10.325824,
          12.425291,
          13.906612,
          -12.44922,
          4.23944,
          -20.541693,
          -2.787374,
          44.8881,
          -14.937087,
          -14.906767,
          4.7690015,
          -4.431027,
          -2.8848045,
          13.445184,
          18.848305,
          15.437547,
          -3.8706617,
          -5.618103,
          -6.607311,
          19.225863,
          33.94482,
          6.4927416,
          19.225863,
          54.32561,
          3.8195667,
          29.39901,
          49.20434,
          52.51733,
          -19.708225,
          -29.760416,
          27.218426,
          -13.974212,
          36.772774,
          -2.4616504,
          23.37035
         ]
        },
        {
         "hovertemplate": "species=versicolor<br>tsne1=%{x}<br>tsne2=%{y}<br>tsne3=%{z}<extra></extra>",
         "legendgroup": "versicolor",
         "marker": {
          "color": "#EF553B",
          "symbol": "circle"
         },
         "mode": "markers",
         "name": "versicolor",
         "scene": "scene",
         "showlegend": true,
         "type": "scatter3d",
         "x": [
          24.660067,
          1.7094415,
          30.281305,
          -16.085098,
          23.014305,
          0.34488097,
          10.452101,
          -42.32422,
          18.387434,
          -25.432953,
          -31.064125,
          -19.210001,
          -12.305144,
          14.549206,
          -42.184345,
          6.7757955,
          -8.395633,
          -28.494267,
          23.839916,
          -30.620275,
          5.346385,
          -12.465824,
          34.176876,
          10.303302,
          6.231086,
          0.5528972,
          35.81345,
          36.4545,
          -13.968325,
          -48.476635,
          -32.22602,
          -35.542244,
          -41.16019,
          40.960777,
          -4.0648084,
          -4.371485,
          20.043083,
          11.441797,
          -24.1799,
          -15.025985,
          1.133637,
          -0.17521903,
          -14.1879,
          -48.380054,
          -12.481274,
          -31.01858,
          -15.918348,
          -4.893509,
          -55.702557,
          -26.17974
         ],
         "y": [
          17.038622,
          -0.05810966,
          19.26699,
          -71.52071,
          -14.51213,
          -40.37172,
          2.4555433,
          -78.12821,
          -2.0573075,
          -64.88108,
          -86.64069,
          -19.616667,
          -58.727486,
          -16.076342,
          -51.707703,
          13.514026,
          -31.059427,
          -38.207417,
          -46.59426,
          -57.390717,
          -13.891824,
          -36.371445,
          -30.827627,
          -30.704447,
          -19.059706,
          -2.0125647,
          1.2119622,
          6.353775,
          -12.342586,
          -59.794445,
          -65.96481,
          -75.1198,
          -41.898155,
          -34.732918,
          -45.84242,
          -5.031969,
          4.562307,
          -42.862656,
          -43.50272,
          -69.9138,
          -58.91779,
          -19.128107,
          -51.520424,
          -81.702705,
          -52.378883,
          -32.439125,
          -35.012264,
          -21.354242,
          -68.806076,
          -48.096455
         ],
         "z": [
          -51.805782,
          -32.807304,
          -35.547245,
          -35.353085,
          -43.09508,
          -17.56826,
          -17.625912,
          -6.921225,
          -54.57122,
          -2.7033398,
          -19.412014,
          -14.555837,
          -51.910473,
          -26.490028,
          -10.144408,
          -45.67598,
          -3.6972747,
          -39.632744,
          -42.06506,
          -40.170406,
          4.249185,
          -47.70356,
          -32.369205,
          -32.843105,
          -54.04851,
          -51.184013,
          -45.152424,
          -24.509958,
          -29.696512,
          -31.76461,
          -23.152931,
          -38.450027,
          -28.346817,
          -12.715254,
          3.3435266,
          -9.965412,
          -35.99477,
          -50.522007,
          -1.4202003,
          -18.07626,
          -22.689999,
          -22.621428,
          -34.20046,
          -23.732477,
          -13.245526,
          -13.449669,
          -24.098507,
          -41.623955,
          -13.901121,
          -21.003061
         ]
        },
        {
         "hovertemplate": "species=virginica<br>tsne1=%{x}<br>tsne2=%{y}<br>tsne3=%{z}<extra></extra>",
         "legendgroup": "virginica",
         "marker": {
          "color": "#00cc96",
          "symbol": "circle"
         },
         "mode": "markers",
         "name": "virginica",
         "scene": "scene",
         "showlegend": true,
         "type": "scatter3d",
         "x": [
          73.671104,
          35.455635,
          38.57479,
          37.151566,
          56.52465,
          21.364595,
          -0.68551105,
          31.400211,
          37.11471,
          50.239285,
          28.606985,
          48.657722,
          36.96788,
          31.108963,
          34.344444,
          58.51071,
          43.94202,
          37.405758,
          38.47939,
          31.705011,
          44.411175,
          18.219303,
          22.743473,
          38.481808,
          54.04871,
          24.31223,
          27.366411,
          21.3065,
          54.202026,
          21.146276,
          17.383184,
          28.41874,
          62.8661,
          42.991394,
          35.705708,
          36.049812,
          72.61424,
          28.026659,
          14.353368,
          32.32346,
          55.133244,
          40.92068,
          35.455635,
          56.022903,
          64.43987,
          44.554718,
          52.56622,
          42.871933,
          75.3238,
          22.206177
         ],
         "y": [
          28.147423,
          -31.489656,
          31.864664,
          -4.068833,
          18.50081,
          58.5258,
          -66.11115,
          32.35298,
          9.854764,
          58.14878,
          15.064184,
          -8.131998,
          25.518963,
          -48.913322,
          -43.22559,
          17.16472,
          9.624259,
          69.440155,
          54.750523,
          -47.82314,
          43.754063,
          -39.519306,
          46.87578,
          -12.2252865,
          27.820202,
          41.361877,
          -22.79588,
          -9.924192,
          -0.32909557,
          24.664518,
          39.790565,
          63.163177,
          7.2238355,
          -15.861607,
          -18.73632,
          48.795597,
          29.02763,
          7.1373796,
          -25.734762,
          37.82137,
          38.555534,
          39.59194,
          -31.489656,
          38.645626,
          44.903553,
          24.872803,
          -20.854904,
          6.7065525,
          13.791576,
          -19.288555
         ],
         "z": [
          23.60662,
          5.8288083,
          29.003847,
          21.811583,
          29.843807,
          42.53857,
          0.98254573,
          46.74578,
          36.82822,
          25.73703,
          -7.547806,
          6.8477936,
          9.87505,
          1.9574541,
          22.048267,
          -2.9075496,
          14.44113,
          37.44129,
          54.91269,
          -23.462015,
          13.605975,
          11.281628,
          56.10252,
          -10.889873,
          14.367768,
          22.127268,
          -15.294409,
          -4.496598,
          27.181276,
          29.119957,
          38.773655,
          23.64469,
          14.720543,
          -27.428976,
          33.19627,
          37.326786,
          4.750427,
          11.992752,
          -4.5825706,
          -0.44023818,
          -0.8844006,
          -16.759281,
          5.8288083,
          29.816193,
          13.841447,
          -9.711598,
          -7.8230658,
          -3.8764842,
          -3.3682635,
          11.606199
         ]
        }
       ],
       "layout": {
        "height": 800,
        "legend": {
         "title": {
          "text": "species"
         },
         "tracegroupgap": 0
        },
        "scene": {
         "domain": {
          "x": [
           0,
           1
          ],
          "y": [
           0,
           1
          ]
         },
         "xaxis": {
          "title": {
           "text": "tsne1"
          }
         },
         "yaxis": {
          "title": {
           "text": "tsne2"
          }
         },
         "zaxis": {
          "title": {
           "text": "tsne3"
          }
         }
        },
        "template": {
         "data": {
          "bar": [
           {
            "error_x": {
             "color": "#f2f5fa"
            },
            "error_y": {
             "color": "#f2f5fa"
            },
            "marker": {
             "line": {
              "color": "rgb(17,17,17)",
              "width": 0.5
             },
             "pattern": {
              "fillmode": "overlay",
              "size": 10,
              "solidity": 0.2
             }
            },
            "type": "bar"
           }
          ],
          "barpolar": [
           {
            "marker": {
             "line": {
              "color": "rgb(17,17,17)",
              "width": 0.5
             },
             "pattern": {
              "fillmode": "overlay",
              "size": 10,
              "solidity": 0.2
             }
            },
            "type": "barpolar"
           }
          ],
          "carpet": [
           {
            "aaxis": {
             "endlinecolor": "#A2B1C6",
             "gridcolor": "#506784",
             "linecolor": "#506784",
             "minorgridcolor": "#506784",
             "startlinecolor": "#A2B1C6"
            },
            "baxis": {
             "endlinecolor": "#A2B1C6",
             "gridcolor": "#506784",
             "linecolor": "#506784",
             "minorgridcolor": "#506784",
             "startlinecolor": "#A2B1C6"
            },
            "type": "carpet"
           }
          ],
          "choropleth": [
           {
            "colorbar": {
             "outlinewidth": 0,
             "ticks": ""
            },
            "type": "choropleth"
           }
          ],
          "contour": [
           {
            "colorbar": {
             "outlinewidth": 0,
             "ticks": ""
            },
            "colorscale": [
             [
              0,
              "#0d0887"
             ],
             [
              0.1111111111111111,
              "#46039f"
             ],
             [
              0.2222222222222222,
              "#7201a8"
             ],
             [
              0.3333333333333333,
              "#9c179e"
             ],
             [
              0.4444444444444444,
              "#bd3786"
             ],
             [
              0.5555555555555556,
              "#d8576b"
             ],
             [
              0.6666666666666666,
              "#ed7953"
             ],
             [
              0.7777777777777778,
              "#fb9f3a"
             ],
             [
              0.8888888888888888,
              "#fdca26"
             ],
             [
              1,
              "#f0f921"
             ]
            ],
            "type": "contour"
           }
          ],
          "contourcarpet": [
           {
            "colorbar": {
             "outlinewidth": 0,
             "ticks": ""
            },
            "type": "contourcarpet"
           }
          ],
          "heatmap": [
           {
            "colorbar": {
             "outlinewidth": 0,
             "ticks": ""
            },
            "colorscale": [
             [
              0,
              "#0d0887"
             ],
             [
              0.1111111111111111,
              "#46039f"
             ],
             [
              0.2222222222222222,
              "#7201a8"
             ],
             [
              0.3333333333333333,
              "#9c179e"
             ],
             [
              0.4444444444444444,
              "#bd3786"
             ],
             [
              0.5555555555555556,
              "#d8576b"
             ],
             [
              0.6666666666666666,
              "#ed7953"
             ],
             [
              0.7777777777777778,
              "#fb9f3a"
             ],
             [
              0.8888888888888888,
              "#fdca26"
             ],
             [
              1,
              "#f0f921"
             ]
            ],
            "type": "heatmap"
           }
          ],
          "heatmapgl": [
           {
            "colorbar": {
             "outlinewidth": 0,
             "ticks": ""
            },
            "colorscale": [
             [
              0,
              "#0d0887"
             ],
             [
              0.1111111111111111,
              "#46039f"
             ],
             [
              0.2222222222222222,
              "#7201a8"
             ],
             [
              0.3333333333333333,
              "#9c179e"
             ],
             [
              0.4444444444444444,
              "#bd3786"
             ],
             [
              0.5555555555555556,
              "#d8576b"
             ],
             [
              0.6666666666666666,
              "#ed7953"
             ],
             [
              0.7777777777777778,
              "#fb9f3a"
             ],
             [
              0.8888888888888888,
              "#fdca26"
             ],
             [
              1,
              "#f0f921"
             ]
            ],
            "type": "heatmapgl"
           }
          ],
          "histogram": [
           {
            "marker": {
             "pattern": {
              "fillmode": "overlay",
              "size": 10,
              "solidity": 0.2
             }
            },
            "type": "histogram"
           }
          ],
          "histogram2d": [
           {
            "colorbar": {
             "outlinewidth": 0,
             "ticks": ""
            },
            "colorscale": [
             [
              0,
              "#0d0887"
             ],
             [
              0.1111111111111111,
              "#46039f"
             ],
             [
              0.2222222222222222,
              "#7201a8"
             ],
             [
              0.3333333333333333,
              "#9c179e"
             ],
             [
              0.4444444444444444,
              "#bd3786"
             ],
             [
              0.5555555555555556,
              "#d8576b"
             ],
             [
              0.6666666666666666,
              "#ed7953"
             ],
             [
              0.7777777777777778,
              "#fb9f3a"
             ],
             [
              0.8888888888888888,
              "#fdca26"
             ],
             [
              1,
              "#f0f921"
             ]
            ],
            "type": "histogram2d"
           }
          ],
          "histogram2dcontour": [
           {
            "colorbar": {
             "outlinewidth": 0,
             "ticks": ""
            },
            "colorscale": [
             [
              0,
              "#0d0887"
             ],
             [
              0.1111111111111111,
              "#46039f"
             ],
             [
              0.2222222222222222,
              "#7201a8"
             ],
             [
              0.3333333333333333,
              "#9c179e"
             ],
             [
              0.4444444444444444,
              "#bd3786"
             ],
             [
              0.5555555555555556,
              "#d8576b"
             ],
             [
              0.6666666666666666,
              "#ed7953"
             ],
             [
              0.7777777777777778,
              "#fb9f3a"
             ],
             [
              0.8888888888888888,
              "#fdca26"
             ],
             [
              1,
              "#f0f921"
             ]
            ],
            "type": "histogram2dcontour"
           }
          ],
          "mesh3d": [
           {
            "colorbar": {
             "outlinewidth": 0,
             "ticks": ""
            },
            "type": "mesh3d"
           }
          ],
          "parcoords": [
           {
            "line": {
             "colorbar": {
              "outlinewidth": 0,
              "ticks": ""
             }
            },
            "type": "parcoords"
           }
          ],
          "pie": [
           {
            "automargin": true,
            "type": "pie"
           }
          ],
          "scatter": [
           {
            "marker": {
             "line": {
              "color": "#283442"
             }
            },
            "type": "scatter"
           }
          ],
          "scatter3d": [
           {
            "line": {
             "colorbar": {
              "outlinewidth": 0,
              "ticks": ""
             }
            },
            "marker": {
             "colorbar": {
              "outlinewidth": 0,
              "ticks": ""
             }
            },
            "type": "scatter3d"
           }
          ],
          "scattercarpet": [
           {
            "marker": {
             "colorbar": {
              "outlinewidth": 0,
              "ticks": ""
             }
            },
            "type": "scattercarpet"
           }
          ],
          "scattergeo": [
           {
            "marker": {
             "colorbar": {
              "outlinewidth": 0,
              "ticks": ""
             }
            },
            "type": "scattergeo"
           }
          ],
          "scattergl": [
           {
            "marker": {
             "line": {
              "color": "#283442"
             }
            },
            "type": "scattergl"
           }
          ],
          "scattermapbox": [
           {
            "marker": {
             "colorbar": {
              "outlinewidth": 0,
              "ticks": ""
             }
            },
            "type": "scattermapbox"
           }
          ],
          "scatterpolar": [
           {
            "marker": {
             "colorbar": {
              "outlinewidth": 0,
              "ticks": ""
             }
            },
            "type": "scatterpolar"
           }
          ],
          "scatterpolargl": [
           {
            "marker": {
             "colorbar": {
              "outlinewidth": 0,
              "ticks": ""
             }
            },
            "type": "scatterpolargl"
           }
          ],
          "scatterternary": [
           {
            "marker": {
             "colorbar": {
              "outlinewidth": 0,
              "ticks": ""
             }
            },
            "type": "scatterternary"
           }
          ],
          "surface": [
           {
            "colorbar": {
             "outlinewidth": 0,
             "ticks": ""
            },
            "colorscale": [
             [
              0,
              "#0d0887"
             ],
             [
              0.1111111111111111,
              "#46039f"
             ],
             [
              0.2222222222222222,
              "#7201a8"
             ],
             [
              0.3333333333333333,
              "#9c179e"
             ],
             [
              0.4444444444444444,
              "#bd3786"
             ],
             [
              0.5555555555555556,
              "#d8576b"
             ],
             [
              0.6666666666666666,
              "#ed7953"
             ],
             [
              0.7777777777777778,
              "#fb9f3a"
             ],
             [
              0.8888888888888888,
              "#fdca26"
             ],
             [
              1,
              "#f0f921"
             ]
            ],
            "type": "surface"
           }
          ],
          "table": [
           {
            "cells": {
             "fill": {
              "color": "#506784"
             },
             "line": {
              "color": "rgb(17,17,17)"
             }
            },
            "header": {
             "fill": {
              "color": "#2a3f5f"
             },
             "line": {
              "color": "rgb(17,17,17)"
             }
            },
            "type": "table"
           }
          ]
         },
         "layout": {
          "annotationdefaults": {
           "arrowcolor": "#f2f5fa",
           "arrowhead": 0,
           "arrowwidth": 1
          },
          "autotypenumbers": "strict",
          "coloraxis": {
           "colorbar": {
            "outlinewidth": 0,
            "ticks": ""
           }
          },
          "colorscale": {
           "diverging": [
            [
             0,
             "#8e0152"
            ],
            [
             0.1,
             "#c51b7d"
            ],
            [
             0.2,
             "#de77ae"
            ],
            [
             0.3,
             "#f1b6da"
            ],
            [
             0.4,
             "#fde0ef"
            ],
            [
             0.5,
             "#f7f7f7"
            ],
            [
             0.6,
             "#e6f5d0"
            ],
            [
             0.7,
             "#b8e186"
            ],
            [
             0.8,
             "#7fbc41"
            ],
            [
             0.9,
             "#4d9221"
            ],
            [
             1,
             "#276419"
            ]
           ],
           "sequential": [
            [
             0,
             "#0d0887"
            ],
            [
             0.1111111111111111,
             "#46039f"
            ],
            [
             0.2222222222222222,
             "#7201a8"
            ],
            [
             0.3333333333333333,
             "#9c179e"
            ],
            [
             0.4444444444444444,
             "#bd3786"
            ],
            [
             0.5555555555555556,
             "#d8576b"
            ],
            [
             0.6666666666666666,
             "#ed7953"
            ],
            [
             0.7777777777777778,
             "#fb9f3a"
            ],
            [
             0.8888888888888888,
             "#fdca26"
            ],
            [
             1,
             "#f0f921"
            ]
           ],
           "sequentialminus": [
            [
             0,
             "#0d0887"
            ],
            [
             0.1111111111111111,
             "#46039f"
            ],
            [
             0.2222222222222222,
             "#7201a8"
            ],
            [
             0.3333333333333333,
             "#9c179e"
            ],
            [
             0.4444444444444444,
             "#bd3786"
            ],
            [
             0.5555555555555556,
             "#d8576b"
            ],
            [
             0.6666666666666666,
             "#ed7953"
            ],
            [
             0.7777777777777778,
             "#fb9f3a"
            ],
            [
             0.8888888888888888,
             "#fdca26"
            ],
            [
             1,
             "#f0f921"
            ]
           ]
          },
          "colorway": [
           "#636efa",
           "#EF553B",
           "#00cc96",
           "#ab63fa",
           "#FFA15A",
           "#19d3f3",
           "#FF6692",
           "#B6E880",
           "#FF97FF",
           "#FECB52"
          ],
          "font": {
           "color": "#f2f5fa"
          },
          "geo": {
           "bgcolor": "rgb(17,17,17)",
           "lakecolor": "rgb(17,17,17)",
           "landcolor": "rgb(17,17,17)",
           "showlakes": true,
           "showland": true,
           "subunitcolor": "#506784"
          },
          "hoverlabel": {
           "align": "left"
          },
          "hovermode": "closest",
          "mapbox": {
           "style": "dark"
          },
          "paper_bgcolor": "rgb(17,17,17)",
          "plot_bgcolor": "rgb(17,17,17)",
          "polar": {
           "angularaxis": {
            "gridcolor": "#506784",
            "linecolor": "#506784",
            "ticks": ""
           },
           "bgcolor": "rgb(17,17,17)",
           "radialaxis": {
            "gridcolor": "#506784",
            "linecolor": "#506784",
            "ticks": ""
           }
          },
          "scene": {
           "xaxis": {
            "backgroundcolor": "rgb(17,17,17)",
            "gridcolor": "#506784",
            "gridwidth": 2,
            "linecolor": "#506784",
            "showbackground": true,
            "ticks": "",
            "zerolinecolor": "#C8D4E3"
           },
           "yaxis": {
            "backgroundcolor": "rgb(17,17,17)",
            "gridcolor": "#506784",
            "gridwidth": 2,
            "linecolor": "#506784",
            "showbackground": true,
            "ticks": "",
            "zerolinecolor": "#C8D4E3"
           },
           "zaxis": {
            "backgroundcolor": "rgb(17,17,17)",
            "gridcolor": "#506784",
            "gridwidth": 2,
            "linecolor": "#506784",
            "showbackground": true,
            "ticks": "",
            "zerolinecolor": "#C8D4E3"
           }
          },
          "shapedefaults": {
           "line": {
            "color": "#f2f5fa"
           }
          },
          "sliderdefaults": {
           "bgcolor": "#C8D4E3",
           "bordercolor": "rgb(17,17,17)",
           "borderwidth": 1,
           "tickwidth": 0
          },
          "ternary": {
           "aaxis": {
            "gridcolor": "#506784",
            "linecolor": "#506784",
            "ticks": ""
           },
           "baxis": {
            "gridcolor": "#506784",
            "linecolor": "#506784",
            "ticks": ""
           },
           "bgcolor": "rgb(17,17,17)",
           "caxis": {
            "gridcolor": "#506784",
            "linecolor": "#506784",
            "ticks": ""
           }
          },
          "title": {
           "x": 0.05
          },
          "updatemenudefaults": {
           "bgcolor": "#506784",
           "borderwidth": 0
          },
          "xaxis": {
           "automargin": true,
           "gridcolor": "#283442",
           "linecolor": "#506784",
           "ticks": "",
           "title": {
            "standoff": 15
           },
           "zerolinecolor": "#283442",
           "zerolinewidth": 2
          },
          "yaxis": {
           "automargin": true,
           "gridcolor": "#283442",
           "linecolor": "#506784",
           "ticks": "",
           "title": {
            "standoff": 15
           },
           "zerolinecolor": "#283442",
           "zerolinewidth": 2
          }
         }
        },
        "title": {
         "text": "t-SNE"
        }
       }
      }
     },
     "metadata": {},
     "output_type": "display_data"
    }
   ],
   "source": [
    "dr3 = Pipeline(steps=[\n",
    "    (\"tsne\", TSNE(n_components=3))\n",
    "])\n",
    "X_dr3 = dr3.fit_transform(X)\n",
    "X_dr3 = pd.DataFrame(X_dr3, columns=[\"tsne1\", \"tsne2\", \"tsne3\"])\n",
    "X_dr3 = pd.concat([X_dr3, iris_df[\"species\"]], axis=1)\n",
    "px.scatter_3d(X_dr3, x=\"tsne1\", y=\"tsne2\", z=\"tsne3\", color=\"species\", title=\"t-SNE\", height=800, template=\"plotly_dark\")\n",
    "\n",
    "\n",
    "\n"
   ]
  },
  {
   "cell_type": "code",
   "execution_count": 42,
   "metadata": {},
   "outputs": [
    {
     "data": {
      "application/vnd.plotly.v1+json": {
       "config": {
        "plotlyServerURL": "https://plot.ly"
       },
       "data": [
        {
         "hovertemplate": "species=setosa<br>feature1=%{x}<br>feature2=%{y}<extra></extra>",
         "legendgroup": "setosa",
         "marker": {
          "color": "#636efa",
          "symbol": "circle"
         },
         "mode": "markers",
         "name": "setosa",
         "orientation": "v",
         "showlegend": true,
         "type": "scatter",
         "x": [
          -22.519693,
          -25.043774,
          -25.322487,
          -25.581713,
          -22.425346,
          -20.499914,
          -25.124437,
          -23.274408,
          -26.349543,
          -24.610725,
          -20.979452,
          -24.038124,
          -25.373272,
          -26.632725,
          -19.66987,
          -19.480028,
          -20.370125,
          -22.457708,
          -20.208626,
          -21.389647,
          -21.640757,
          -21.695091,
          -25.481544,
          -22.924498,
          -23.977386,
          -24.637747,
          -23.093555,
          -22.083454,
          -22.461054,
          -24.787996,
          -24.781025,
          -21.710106,
          -20.31056,
          -19.785048,
          -24.610725,
          -23.914434,
          -21.083689,
          -24.610725,
          -26.308678,
          -22.908846,
          -22.852545,
          -26.69587,
          -26.064478,
          -22.686512,
          -21.101208,
          -25.409756,
          -21.31435,
          -25.487823,
          -21.233337,
          -23.605387
         ],
         "xaxis": "x",
         "y": [
          7.902555,
          8.524384,
          7.375283,
          7.6279655,
          8.234644,
          8.03443,
          6.720246,
          7.639917,
          7.83129,
          8.126661,
          7.4344683,
          7.129369,
          8.292896,
          7.2973003,
          7.320408,
          7.852191,
          7.659958,
          7.740447,
          7.1167645,
          8.228154,
          6.7198834,
          8.044452,
          6.013032,
          6.5322714,
          6.5235043,
          8.70703,
          6.997532,
          7.474377,
          7.5115285,
          7.288007,
          7.6912026,
          6.817651,
          8.455489,
          7.9629116,
          8.126662,
          8.558476,
          6.8347077,
          8.126662,
          7.5176415,
          7.59661,
          8.193986,
          8.549789,
          6.9882655,
          6.5444636,
          8.847119,
          8.265789,
          8.330368,
          7.2413464,
          7.639251,
          7.931485
         ],
         "yaxis": "y"
        },
        {
         "hovertemplate": "species=versicolor<br>feature1=%{x}<br>feature2=%{y}<extra></extra>",
         "legendgroup": "versicolor",
         "marker": {
          "color": "#EF553B",
          "symbol": "circle"
         },
         "mode": "markers",
         "name": "versicolor",
         "orientation": "v",
         "showlegend": true,
         "type": "scatter",
         "x": [
          7.792183,
          6.9769173,
          8.329234,
          2.6982317,
          7.4951224,
          4.885147,
          7.554854,
          1.1346009,
          7.2357354,
          2.8451765,
          1.3619034,
          4.8989115,
          2.573337,
          6.842961,
          2.3197782,
          6.978945,
          5.143376,
          3.3535798,
          6.8781476,
          2.659239,
          8.219044,
          4.1061773,
          9.113544,
          6.435897,
          6.1286445,
          6.82095,
          8.046692,
          9.283172,
          6.103115,
          1.9003601,
          2.2754457,
          2.0169728,
          3.100593,
          9.641238,
          4.865341,
          7.172664,
          7.7484784,
          6.644112,
          4.026867,
          2.9762197,
          3.9119632,
          6.5739675,
          3.1670501,
          1.1870856,
          3.743095,
          4.24043,
          4.2201004,
          5.627544,
          0.977844,
          3.7546277
         ],
         "xaxis": "x",
         "y": [
          -0.93622607,
          -2.4726033,
          -1.0345997,
          -5.381342,
          -2.2379313,
          -4.779264,
          -2.9922676,
          -5.462243,
          -1.8200867,
          -5.7968154,
          -5.6888742,
          -4.0028186,
          -3.7026403,
          -3.5182922,
          -4.361782,
          -1.5514426,
          -5.006335,
          -4.1372037,
          -5.2923527,
          -4.810276,
          -4.3736544,
          -3.5389771,
          -3.0125,
          -3.5394087,
          -2.4644544,
          -1.8601768,
          -1.4182874,
          -1.321098,
          -3.8498666,
          -4.514329,
          -5.084562,
          -4.989949,
          -4.306077,
          -3.864749,
          -5.4600058,
          -3.9186132,
          -1.4890044,
          -5.1920013,
          -4.728398,
          -5.2269244,
          -5.449664,
          -3.4592216,
          -4.399371,
          -5.437444,
          -5.0456905,
          -4.4221544,
          -4.552616,
          -3.1596172,
          -5.303634,
          -4.5711684
         ],
         "yaxis": "y"
        },
        {
         "hovertemplate": "species=virginica<br>feature1=%{x}<br>feature2=%{y}<extra></extra>",
         "legendgroup": "virginica",
         "marker": {
          "color": "#00cc96",
          "symbol": "circle"
         },
         "mode": "markers",
         "name": "virginica",
         "orientation": "v",
         "showlegend": true,
         "type": "scatter",
         "x": [
          14.335577,
          9.782751,
          14.042865,
          12.007338,
          13.374647,
          15.175931,
          4.0748296,
          14.480399,
          12.634907,
          15.072604,
          11.356732,
          11.199845,
          12.898024,
          9.87473,
          10.432977,
          13.064619,
          12.01685,
          15.735071,
          15.275128,
          10.120185,
          13.803525,
          9.479745,
          15.163653,
          9.36978,
          13.61046,
          14.185087,
          8.863634,
          8.753613,
          12.550894,
          13.776092,
          14.391701,
          15.718226,
          12.730756,
          9.47998,
          11.1364,
          14.993706,
          13.839228,
          12.036588,
          8.499853,
          12.837032,
          13.50199,
          12.15501,
          9.782751,
          14.14174,
          14.107319,
          12.278206,
          9.960889,
          11.5515,
          13.513403,
          9.219048
         ],
         "xaxis": "x",
         "y": [
          -1.6605964,
          -4.746496,
          0.3236484,
          -2.2287219,
          -1.2689296,
          1.2841928,
          -6.518153,
          1.215438,
          0.4352797,
          -0.06185316,
          -1.2286075,
          -2.260939,
          -0.6235494,
          -5.1084685,
          -5.2325673,
          -1.8973069,
          -1.7396848,
          0.76574016,
          1.6800759,
          -3.896633,
          -0.42864746,
          -5.257012,
          1.5191442,
          -3.1803756,
          -0.76360565,
          0.7508965,
          -3.5128326,
          -3.9309719,
          -1.6686374,
          0.96342266,
          1.1579335,
          0.76144165,
          -1.5928975,
          -2.7959385,
          -3.3132658,
          0.93596077,
          -1.9514211,
          -1.910991,
          -4.154503,
          -0.44225615,
          -0.9641552,
          -0.4380339,
          -4.746496,
          -0.5465448,
          -1.0878911,
          -0.7832472,
          -3.1975203,
          -1.4383454,
          -2.3024848,
          -4.4628797
         ],
         "yaxis": "y"
        }
       ],
       "layout": {
        "height": 800,
        "legend": {
         "title": {
          "text": "species"
         },
         "tracegroupgap": 0
        },
        "template": {
         "data": {
          "bar": [
           {
            "error_x": {
             "color": "#f2f5fa"
            },
            "error_y": {
             "color": "#f2f5fa"
            },
            "marker": {
             "line": {
              "color": "rgb(17,17,17)",
              "width": 0.5
             },
             "pattern": {
              "fillmode": "overlay",
              "size": 10,
              "solidity": 0.2
             }
            },
            "type": "bar"
           }
          ],
          "barpolar": [
           {
            "marker": {
             "line": {
              "color": "rgb(17,17,17)",
              "width": 0.5
             },
             "pattern": {
              "fillmode": "overlay",
              "size": 10,
              "solidity": 0.2
             }
            },
            "type": "barpolar"
           }
          ],
          "carpet": [
           {
            "aaxis": {
             "endlinecolor": "#A2B1C6",
             "gridcolor": "#506784",
             "linecolor": "#506784",
             "minorgridcolor": "#506784",
             "startlinecolor": "#A2B1C6"
            },
            "baxis": {
             "endlinecolor": "#A2B1C6",
             "gridcolor": "#506784",
             "linecolor": "#506784",
             "minorgridcolor": "#506784",
             "startlinecolor": "#A2B1C6"
            },
            "type": "carpet"
           }
          ],
          "choropleth": [
           {
            "colorbar": {
             "outlinewidth": 0,
             "ticks": ""
            },
            "type": "choropleth"
           }
          ],
          "contour": [
           {
            "colorbar": {
             "outlinewidth": 0,
             "ticks": ""
            },
            "colorscale": [
             [
              0,
              "#0d0887"
             ],
             [
              0.1111111111111111,
              "#46039f"
             ],
             [
              0.2222222222222222,
              "#7201a8"
             ],
             [
              0.3333333333333333,
              "#9c179e"
             ],
             [
              0.4444444444444444,
              "#bd3786"
             ],
             [
              0.5555555555555556,
              "#d8576b"
             ],
             [
              0.6666666666666666,
              "#ed7953"
             ],
             [
              0.7777777777777778,
              "#fb9f3a"
             ],
             [
              0.8888888888888888,
              "#fdca26"
             ],
             [
              1,
              "#f0f921"
             ]
            ],
            "type": "contour"
           }
          ],
          "contourcarpet": [
           {
            "colorbar": {
             "outlinewidth": 0,
             "ticks": ""
            },
            "type": "contourcarpet"
           }
          ],
          "heatmap": [
           {
            "colorbar": {
             "outlinewidth": 0,
             "ticks": ""
            },
            "colorscale": [
             [
              0,
              "#0d0887"
             ],
             [
              0.1111111111111111,
              "#46039f"
             ],
             [
              0.2222222222222222,
              "#7201a8"
             ],
             [
              0.3333333333333333,
              "#9c179e"
             ],
             [
              0.4444444444444444,
              "#bd3786"
             ],
             [
              0.5555555555555556,
              "#d8576b"
             ],
             [
              0.6666666666666666,
              "#ed7953"
             ],
             [
              0.7777777777777778,
              "#fb9f3a"
             ],
             [
              0.8888888888888888,
              "#fdca26"
             ],
             [
              1,
              "#f0f921"
             ]
            ],
            "type": "heatmap"
           }
          ],
          "heatmapgl": [
           {
            "colorbar": {
             "outlinewidth": 0,
             "ticks": ""
            },
            "colorscale": [
             [
              0,
              "#0d0887"
             ],
             [
              0.1111111111111111,
              "#46039f"
             ],
             [
              0.2222222222222222,
              "#7201a8"
             ],
             [
              0.3333333333333333,
              "#9c179e"
             ],
             [
              0.4444444444444444,
              "#bd3786"
             ],
             [
              0.5555555555555556,
              "#d8576b"
             ],
             [
              0.6666666666666666,
              "#ed7953"
             ],
             [
              0.7777777777777778,
              "#fb9f3a"
             ],
             [
              0.8888888888888888,
              "#fdca26"
             ],
             [
              1,
              "#f0f921"
             ]
            ],
            "type": "heatmapgl"
           }
          ],
          "histogram": [
           {
            "marker": {
             "pattern": {
              "fillmode": "overlay",
              "size": 10,
              "solidity": 0.2
             }
            },
            "type": "histogram"
           }
          ],
          "histogram2d": [
           {
            "colorbar": {
             "outlinewidth": 0,
             "ticks": ""
            },
            "colorscale": [
             [
              0,
              "#0d0887"
             ],
             [
              0.1111111111111111,
              "#46039f"
             ],
             [
              0.2222222222222222,
              "#7201a8"
             ],
             [
              0.3333333333333333,
              "#9c179e"
             ],
             [
              0.4444444444444444,
              "#bd3786"
             ],
             [
              0.5555555555555556,
              "#d8576b"
             ],
             [
              0.6666666666666666,
              "#ed7953"
             ],
             [
              0.7777777777777778,
              "#fb9f3a"
             ],
             [
              0.8888888888888888,
              "#fdca26"
             ],
             [
              1,
              "#f0f921"
             ]
            ],
            "type": "histogram2d"
           }
          ],
          "histogram2dcontour": [
           {
            "colorbar": {
             "outlinewidth": 0,
             "ticks": ""
            },
            "colorscale": [
             [
              0,
              "#0d0887"
             ],
             [
              0.1111111111111111,
              "#46039f"
             ],
             [
              0.2222222222222222,
              "#7201a8"
             ],
             [
              0.3333333333333333,
              "#9c179e"
             ],
             [
              0.4444444444444444,
              "#bd3786"
             ],
             [
              0.5555555555555556,
              "#d8576b"
             ],
             [
              0.6666666666666666,
              "#ed7953"
             ],
             [
              0.7777777777777778,
              "#fb9f3a"
             ],
             [
              0.8888888888888888,
              "#fdca26"
             ],
             [
              1,
              "#f0f921"
             ]
            ],
            "type": "histogram2dcontour"
           }
          ],
          "mesh3d": [
           {
            "colorbar": {
             "outlinewidth": 0,
             "ticks": ""
            },
            "type": "mesh3d"
           }
          ],
          "parcoords": [
           {
            "line": {
             "colorbar": {
              "outlinewidth": 0,
              "ticks": ""
             }
            },
            "type": "parcoords"
           }
          ],
          "pie": [
           {
            "automargin": true,
            "type": "pie"
           }
          ],
          "scatter": [
           {
            "marker": {
             "line": {
              "color": "#283442"
             }
            },
            "type": "scatter"
           }
          ],
          "scatter3d": [
           {
            "line": {
             "colorbar": {
              "outlinewidth": 0,
              "ticks": ""
             }
            },
            "marker": {
             "colorbar": {
              "outlinewidth": 0,
              "ticks": ""
             }
            },
            "type": "scatter3d"
           }
          ],
          "scattercarpet": [
           {
            "marker": {
             "colorbar": {
              "outlinewidth": 0,
              "ticks": ""
             }
            },
            "type": "scattercarpet"
           }
          ],
          "scattergeo": [
           {
            "marker": {
             "colorbar": {
              "outlinewidth": 0,
              "ticks": ""
             }
            },
            "type": "scattergeo"
           }
          ],
          "scattergl": [
           {
            "marker": {
             "line": {
              "color": "#283442"
             }
            },
            "type": "scattergl"
           }
          ],
          "scattermapbox": [
           {
            "marker": {
             "colorbar": {
              "outlinewidth": 0,
              "ticks": ""
             }
            },
            "type": "scattermapbox"
           }
          ],
          "scatterpolar": [
           {
            "marker": {
             "colorbar": {
              "outlinewidth": 0,
              "ticks": ""
             }
            },
            "type": "scatterpolar"
           }
          ],
          "scatterpolargl": [
           {
            "marker": {
             "colorbar": {
              "outlinewidth": 0,
              "ticks": ""
             }
            },
            "type": "scatterpolargl"
           }
          ],
          "scatterternary": [
           {
            "marker": {
             "colorbar": {
              "outlinewidth": 0,
              "ticks": ""
             }
            },
            "type": "scatterternary"
           }
          ],
          "surface": [
           {
            "colorbar": {
             "outlinewidth": 0,
             "ticks": ""
            },
            "colorscale": [
             [
              0,
              "#0d0887"
             ],
             [
              0.1111111111111111,
              "#46039f"
             ],
             [
              0.2222222222222222,
              "#7201a8"
             ],
             [
              0.3333333333333333,
              "#9c179e"
             ],
             [
              0.4444444444444444,
              "#bd3786"
             ],
             [
              0.5555555555555556,
              "#d8576b"
             ],
             [
              0.6666666666666666,
              "#ed7953"
             ],
             [
              0.7777777777777778,
              "#fb9f3a"
             ],
             [
              0.8888888888888888,
              "#fdca26"
             ],
             [
              1,
              "#f0f921"
             ]
            ],
            "type": "surface"
           }
          ],
          "table": [
           {
            "cells": {
             "fill": {
              "color": "#506784"
             },
             "line": {
              "color": "rgb(17,17,17)"
             }
            },
            "header": {
             "fill": {
              "color": "#2a3f5f"
             },
             "line": {
              "color": "rgb(17,17,17)"
             }
            },
            "type": "table"
           }
          ]
         },
         "layout": {
          "annotationdefaults": {
           "arrowcolor": "#f2f5fa",
           "arrowhead": 0,
           "arrowwidth": 1
          },
          "autotypenumbers": "strict",
          "coloraxis": {
           "colorbar": {
            "outlinewidth": 0,
            "ticks": ""
           }
          },
          "colorscale": {
           "diverging": [
            [
             0,
             "#8e0152"
            ],
            [
             0.1,
             "#c51b7d"
            ],
            [
             0.2,
             "#de77ae"
            ],
            [
             0.3,
             "#f1b6da"
            ],
            [
             0.4,
             "#fde0ef"
            ],
            [
             0.5,
             "#f7f7f7"
            ],
            [
             0.6,
             "#e6f5d0"
            ],
            [
             0.7,
             "#b8e186"
            ],
            [
             0.8,
             "#7fbc41"
            ],
            [
             0.9,
             "#4d9221"
            ],
            [
             1,
             "#276419"
            ]
           ],
           "sequential": [
            [
             0,
             "#0d0887"
            ],
            [
             0.1111111111111111,
             "#46039f"
            ],
            [
             0.2222222222222222,
             "#7201a8"
            ],
            [
             0.3333333333333333,
             "#9c179e"
            ],
            [
             0.4444444444444444,
             "#bd3786"
            ],
            [
             0.5555555555555556,
             "#d8576b"
            ],
            [
             0.6666666666666666,
             "#ed7953"
            ],
            [
             0.7777777777777778,
             "#fb9f3a"
            ],
            [
             0.8888888888888888,
             "#fdca26"
            ],
            [
             1,
             "#f0f921"
            ]
           ],
           "sequentialminus": [
            [
             0,
             "#0d0887"
            ],
            [
             0.1111111111111111,
             "#46039f"
            ],
            [
             0.2222222222222222,
             "#7201a8"
            ],
            [
             0.3333333333333333,
             "#9c179e"
            ],
            [
             0.4444444444444444,
             "#bd3786"
            ],
            [
             0.5555555555555556,
             "#d8576b"
            ],
            [
             0.6666666666666666,
             "#ed7953"
            ],
            [
             0.7777777777777778,
             "#fb9f3a"
            ],
            [
             0.8888888888888888,
             "#fdca26"
            ],
            [
             1,
             "#f0f921"
            ]
           ]
          },
          "colorway": [
           "#636efa",
           "#EF553B",
           "#00cc96",
           "#ab63fa",
           "#FFA15A",
           "#19d3f3",
           "#FF6692",
           "#B6E880",
           "#FF97FF",
           "#FECB52"
          ],
          "font": {
           "color": "#f2f5fa"
          },
          "geo": {
           "bgcolor": "rgb(17,17,17)",
           "lakecolor": "rgb(17,17,17)",
           "landcolor": "rgb(17,17,17)",
           "showlakes": true,
           "showland": true,
           "subunitcolor": "#506784"
          },
          "hoverlabel": {
           "align": "left"
          },
          "hovermode": "closest",
          "mapbox": {
           "style": "dark"
          },
          "paper_bgcolor": "rgb(17,17,17)",
          "plot_bgcolor": "rgb(17,17,17)",
          "polar": {
           "angularaxis": {
            "gridcolor": "#506784",
            "linecolor": "#506784",
            "ticks": ""
           },
           "bgcolor": "rgb(17,17,17)",
           "radialaxis": {
            "gridcolor": "#506784",
            "linecolor": "#506784",
            "ticks": ""
           }
          },
          "scene": {
           "xaxis": {
            "backgroundcolor": "rgb(17,17,17)",
            "gridcolor": "#506784",
            "gridwidth": 2,
            "linecolor": "#506784",
            "showbackground": true,
            "ticks": "",
            "zerolinecolor": "#C8D4E3"
           },
           "yaxis": {
            "backgroundcolor": "rgb(17,17,17)",
            "gridcolor": "#506784",
            "gridwidth": 2,
            "linecolor": "#506784",
            "showbackground": true,
            "ticks": "",
            "zerolinecolor": "#C8D4E3"
           },
           "zaxis": {
            "backgroundcolor": "rgb(17,17,17)",
            "gridcolor": "#506784",
            "gridwidth": 2,
            "linecolor": "#506784",
            "showbackground": true,
            "ticks": "",
            "zerolinecolor": "#C8D4E3"
           }
          },
          "shapedefaults": {
           "line": {
            "color": "#f2f5fa"
           }
          },
          "sliderdefaults": {
           "bgcolor": "#C8D4E3",
           "bordercolor": "rgb(17,17,17)",
           "borderwidth": 1,
           "tickwidth": 0
          },
          "ternary": {
           "aaxis": {
            "gridcolor": "#506784",
            "linecolor": "#506784",
            "ticks": ""
           },
           "baxis": {
            "gridcolor": "#506784",
            "linecolor": "#506784",
            "ticks": ""
           },
           "bgcolor": "rgb(17,17,17)",
           "caxis": {
            "gridcolor": "#506784",
            "linecolor": "#506784",
            "ticks": ""
           }
          },
          "title": {
           "x": 0.05
          },
          "updatemenudefaults": {
           "bgcolor": "#506784",
           "borderwidth": 0
          },
          "xaxis": {
           "automargin": true,
           "gridcolor": "#283442",
           "linecolor": "#506784",
           "ticks": "",
           "title": {
            "standoff": 15
           },
           "zerolinecolor": "#283442",
           "zerolinewidth": 2
          },
          "yaxis": {
           "automargin": true,
           "gridcolor": "#283442",
           "linecolor": "#506784",
           "ticks": "",
           "title": {
            "standoff": 15
           },
           "zerolinecolor": "#283442",
           "zerolinewidth": 2
          }
         }
        },
        "title": {
         "text": "t-SNE"
        },
        "xaxis": {
         "anchor": "y",
         "domain": [
          0,
          1
         ],
         "title": {
          "text": "feature1"
         }
        },
        "yaxis": {
         "anchor": "x",
         "domain": [
          0,
          1
         ],
         "title": {
          "text": "feature2"
         }
        }
       }
      }
     },
     "metadata": {},
     "output_type": "display_data"
    }
   ],
   "source": [
    "dr3 = Pipeline(steps=[\n",
    "    (\"tsne\", TSNE(n_components=2))\n",
    "])\n",
    "X_dr3 = dr3.fit_transform(X)\n",
    "X_dr3 = pd.DataFrame(X_dr3, columns=[\"feature1\", \"feature2\"])\n",
    "X_dr3 = pd.concat([X_dr3, iris_df[\"species\"]], axis=1)\n",
    "X_dr3.plot.scatter(x=\"feature1\", y=\"feature2\", color=\"species\", title=\"t-SNE\", height=800, template=\"plotly_dark\")\n",
    "\n",
    "\n"
   ]
  },
  {
   "cell_type": "code",
   "execution_count": null,
   "metadata": {},
   "outputs": [],
   "source": []
  }
 ],
 "metadata": {
  "kernelspec": {
   "display_name": "base",
   "language": "python",
   "name": "python3"
  },
  "language_info": {
   "codemirror_mode": {
    "name": "ipython",
    "version": 3
   },
   "file_extension": ".py",
   "mimetype": "text/x-python",
   "name": "python",
   "nbconvert_exporter": "python",
   "pygments_lexer": "ipython3",
   "version": "3.12.2"
  }
 },
 "nbformat": 4,
 "nbformat_minor": 2
}
