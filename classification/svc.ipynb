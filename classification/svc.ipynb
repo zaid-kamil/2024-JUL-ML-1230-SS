{
 "cells": [
  {
   "cell_type": "markdown",
   "metadata": {},
   "source": [
    "# SVM"
   ]
  },
  {
   "cell_type": "code",
   "execution_count": null,
   "metadata": {},
   "outputs": [],
   "source": [
    "import pandas as pd\n",
    "import seaborn as sns\n",
    "import matplotlib.pyplot as plt\n",
    "import numpy as np"
   ]
  },
  {
   "cell_type": "code",
   "execution_count": null,
   "metadata": {},
   "outputs": [],
   "source": [
    "df = pd.read_csv('../datasets/classification.csv')\n",
    "df"
   ]
  },
  {
   "cell_type": "code",
   "execution_count": null,
   "metadata": {},
   "outputs": [],
   "source": [
    "sns.scatterplot(x='x',y='y',hue='z',data=df)"
   ]
  },
  {
   "cell_type": "code",
   "execution_count": null,
   "metadata": {},
   "outputs": [],
   "source": [
    "sns.countplot(x='z',data=df)"
   ]
  },
  {
   "cell_type": "code",
   "execution_count": null,
   "metadata": {},
   "outputs": [],
   "source": [
    "from sklearn.svm import SVC\n",
    "from sklearn.model_selection import train_test_split\n",
    "from sklearn.metrics import confusion_matrix, classification_report"
   ]
  },
  {
   "cell_type": "code",
   "execution_count": null,
   "metadata": {},
   "outputs": [],
   "source": [
    "SVC?"
   ]
  },
  {
   "cell_type": "code",
   "execution_count": null,
   "metadata": {},
   "outputs": [],
   "source": [
    "X, y = df.drop('z',axis=1), df['z']\n",
    "Xtrain, Xtest, ytrain, ytest = train_test_split(X,y)\n",
    "clf = SVC() # rbf kernel\n",
    "clf.fit(Xtrain,ytrain)\n",
    "ypred = clf.predict(Xtest)\n",
    "cf = confusion_matrix(ytest,ypred)\n",
    "fig,ax = plt.subplots(figsize=(3,3))\n",
    "sns.heatmap(cf,annot=True,cbar=False,cmap='Blues',fmt='d',ax=ax)\n",
    "print(classification_report(ytest,ypred))"
   ]
  },
  {
   "cell_type": "code",
   "execution_count": null,
   "metadata": {},
   "outputs": [],
   "source": [
    "from sklearn.inspection import DecisionBoundaryDisplay\n",
    "DecisionBoundaryDisplay.from_estimator(\n",
    "    clf,\n",
    "    Xtrain,\n",
    "    response_method='predict',\n",
    "    xlabel='x',\n",
    "    ylabel='y',\n",
    "    alpha=0.5,\n",
    ")"
   ]
  },
  {
   "cell_type": "code",
   "execution_count": null,
   "metadata": {},
   "outputs": [],
   "source": [
    "X, y = df.drop('z',axis=1), df['z']\n",
    "Xtrain, Xtest, ytrain, ytest = train_test_split(X,y)\n",
    "clf = SVC(kernel='linear') \n",
    "clf.fit(Xtrain,ytrain)\n",
    "ypred = clf.predict(Xtest)\n",
    "cf = confusion_matrix(ytest,ypred)\n",
    "fig,ax = plt.subplots(figsize=(3,3))\n",
    "sns.heatmap(cf,annot=True,cbar=False,cmap='Blues',fmt='d',ax=ax)\n",
    "print(classification_report(ytest,ypred))\n",
    "DecisionBoundaryDisplay.from_estimator(\n",
    "    clf,\n",
    "    Xtrain,\n",
    "    response_method='predict',\n",
    "    xlabel='x',\n",
    "    ylabel='y',\n",
    "    alpha=0.5,\n",
    ")\n",
    "plt.show()"
   ]
  },
  {
   "cell_type": "code",
   "execution_count": null,
   "metadata": {},
   "outputs": [],
   "source": []
  }
 ],
 "metadata": {
  "kernelspec": {
   "display_name": "base",
   "language": "python",
   "name": "python3"
  },
  "language_info": {
   "codemirror_mode": {
    "name": "ipython",
    "version": 3
   },
   "file_extension": ".py",
   "mimetype": "text/x-python",
   "name": "python",
   "nbconvert_exporter": "python",
   "pygments_lexer": "ipython3",
   "version": "3.12.2"
  }
 },
 "nbformat": 4,
 "nbformat_minor": 2
}
