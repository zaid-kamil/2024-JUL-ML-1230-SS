{
 "cells": [
  {
   "cell_type": "code",
   "execution_count": 1,
   "metadata": {},
   "outputs": [],
   "source": [
    "import pandas as pd\n",
    "import numpy as np\n",
    "import matplotlib.pyplot as plt\n",
    "import seaborn as sns"
   ]
  },
  {
   "cell_type": "code",
   "execution_count": null,
   "metadata": {},
   "outputs": [],
   "source": [
    "url = '../datasets/Heart_Disease_Prediction.csv'\n",
    "df = pd.read_csv(url)\n",
    "df"
   ]
  },
  {
   "cell_type": "code",
   "execution_count": null,
   "metadata": {},
   "outputs": [],
   "source": [
    "sns.countplot(x='Heart Disease', data=df)"
   ]
  },
  {
   "cell_type": "code",
   "execution_count": 29,
   "metadata": {},
   "outputs": [],
   "source": [
    "from sklearn.feature_selection import SelectKBest, chi2, f_classif, mutual_info_classif, RFECV\n",
    "from sklearn.tree import ExtraTreeClassifier\n",
    "from sklearn.model_selection import train_test_split\n",
    "from sklearn.ensemble import RandomForestClassifier\n",
    "from sklearn.metrics import confusion_matrix, classification_report\n",
    "from sklearn.preprocessing import StandardScaler, LabelEncoder\n",
    "from sklearn.pipeline import Pipeline"
   ]
  },
  {
   "cell_type": "code",
   "execution_count": 17,
   "metadata": {},
   "outputs": [],
   "source": [
    "np.set_printoptions(precision=2, suppress=True)"
   ]
  },
  {
   "cell_type": "code",
   "execution_count": 18,
   "metadata": {},
   "outputs": [],
   "source": [
    "X, y = df.drop('Heart Disease', axis=1), df['Heart Disease']"
   ]
  },
  {
   "cell_type": "code",
   "execution_count": null,
   "metadata": {},
   "outputs": [],
   "source": [
    "selector_1 = SelectKBest(chi2, k=5)\n",
    "selector_1.fit(X, y)\n",
    "for c,s in zip(X.columns, selector_1.scores_):\n",
    "    print(f'{c:25}: {s:.2f}')\n",
    "print(selector_1.get_feature_names_out().tolist())"
   ]
  },
  {
   "cell_type": "code",
   "execution_count": null,
   "metadata": {},
   "outputs": [],
   "source": [
    "selector_2 = SelectKBest(f_classif, k=5)\n",
    "selector_2.fit(X, y)\n",
    "for c,s in zip(X.columns, selector_2.scores_):\n",
    "    print(f'{c:25}: {s:.2f}')\n",
    "print(selector_2.get_feature_names_out().tolist())"
   ]
  },
  {
   "cell_type": "code",
   "execution_count": null,
   "metadata": {},
   "outputs": [],
   "source": [
    "selector_3 = SelectKBest(mutual_info_classif, k=5)\n",
    "selector_3.fit(X, y)\n",
    "for c,s in zip(X.columns, selector_3.scores_):\n",
    "    print(f'{c:25}: {s:.2f}')\n",
    "print(selector_3.get_feature_names_out().tolist())"
   ]
  },
  {
   "cell_type": "code",
   "execution_count": null,
   "metadata": {},
   "outputs": [],
   "source": [
    "selector_4 = RFECV(ExtraTreeClassifier(), cv=5)\n",
    "selector_4.fit(X, y)\n",
    "for c,s in zip(X.columns, selector_4.ranking_):\n",
    "    print(f'{c:25}: {s}')\n",
    "print(selector_4.get_support(indices=True))\n",
    "print(X.columns[selector_4.get_support()].tolist())"
   ]
  },
  {
   "cell_type": "code",
   "execution_count": null,
   "metadata": {},
   "outputs": [],
   "source": []
  }
 ],
 "metadata": {
  "kernelspec": {
   "display_name": "base",
   "language": "python",
   "name": "python3"
  },
  "language_info": {
   "codemirror_mode": {
    "name": "ipython",
    "version": 3
   },
   "file_extension": ".py",
   "mimetype": "text/x-python",
   "name": "python",
   "nbconvert_exporter": "python",
   "pygments_lexer": "ipython3",
   "version": "3.12.2"
  }
 },
 "nbformat": 4,
 "nbformat_minor": 2
}
