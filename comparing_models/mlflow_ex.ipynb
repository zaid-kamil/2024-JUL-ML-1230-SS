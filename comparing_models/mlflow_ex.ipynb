{
 "cells": [
  {
   "cell_type": "code",
   "execution_count": null,
   "metadata": {},
   "outputs": [],
   "source": [
    "import mlflow\n",
    "from mlflow.models import infer_signature\n",
    "import numpy as np\n",
    "from sklearn.linear_model import LogisticRegression\n",
    "\n",
    "with mlflow.start_run():\n",
    "    X = np.array([-2, -1, 0, 1, 2, 1]).reshape(-1, 1)\n",
    "    y = np.array([0, 0, 1, 1, 1, 0])\n",
    "    lr = LogisticRegression()\n",
    "    lr.fit(X, y)\n",
    "    signature = infer_signature(X, lr.predict(X))\n",
    "\n",
    "    model_info = mlflow.sklearn.log_model(\n",
    "        sk_model=lr, artifact_path=\"model\", signature=signature\n",
    "    )\n",
    "\n",
    "sklearn_pyfunc = mlflow.pyfunc.load_model(model_uri=model_info.model_uri)\n",
    "\n",
    "data = np.array([-4, 1, 0, 10, -2, 1]).reshape(-1, 1)\n",
    "\n",
    "predictions = sklearn_pyfunc.predict(data)\n",
    "predictions"
   ]
  },
  {
   "cell_type": "code",
   "execution_count": 7,
   "metadata": {},
   "outputs": [],
   "source": [
    "import pandas as pd\n",
    "import numpy as np\n",
    "import matplotlib.pyplot as plt\n",
    "import seaborn as sns\n",
    "from sklearn.model_selection import train_test_split\n",
    "from sklearn.metrics import confusion_matrix, classification_report\n",
    "from sklearn.tree import DecisionTreeClassifier\n",
    "from sklearn.neighbors import KNeighborsClassifier\n",
    "from sklearn.ensemble import RandomForestClassifier\n",
    "from sklearn.svm import SVC\n",
    "from sklearn.pipeline import Pipeline\n",
    "from sklearn.preprocessing import StandardScaler"
   ]
  },
  {
   "cell_type": "code",
   "execution_count": null,
   "metadata": {},
   "outputs": [],
   "source": [
    "url ='https://raw.githubusercontent.com/digipodium/Datasets/main/classfication/diabetes.csv'\n",
    "df = pd.read_csv(url)\n",
    "df"
   ]
  },
  {
   "cell_type": "code",
   "execution_count": 13,
   "metadata": {},
   "outputs": [
    {
     "name": "stdout",
     "output_type": "stream",
     "text": [
      "{'0': {'precision': 0.8014705882352942, 'recall': 0.7218543046357616, 'f1-score': 0.759581881533101, 'support': 151.0}, '1': {'precision': 0.5578947368421052, 'recall': 0.6625, 'f1-score': 0.6057142857142858, 'support': 80.0}, 'accuracy': 0.7012987012987013, 'macro avg': {'precision': 0.6796826625386997, 'recall': 0.6921771523178808, 'f1-score': 0.6826480836236934, 'support': 231.0}, 'weighted avg': {'precision': 0.7171153150255317, 'recall': 0.7012987012987013, 'f1-score': 0.7062944024616499, 'support': 231.0}}\n"
     ]
    },
    {
     "name": "stderr",
     "output_type": "stream",
     "text": [
      "2024/10/05 15:28:06 WARNING mlflow.models.model: Model logged without a signature and input example. Please set `input_example` parameter when logging the model to auto infer the model signature.\n"
     ]
    }
   ],
   "source": [
    "# creating a mlflow experiment\n",
    "\n",
    "with mlflow.start_run():\n",
    "    X = df.drop('Outcome', axis=1)\n",
    "    y = df['Outcome']\n",
    "    X_train, X_test, y_train, y_test = train_test_split(X, y, \n",
    "        test_size=0.3, random_state=42)\n",
    "    pipe = Pipeline([\n",
    "        ('scaler', StandardScaler()),\n",
    "        ('model', DecisionTreeClassifier())\n",
    "    ])\n",
    "    pipe.fit(X_train, y_train)\n",
    "    predictions = pipe.predict(X_test)\n",
    "    print(classification_report(y_test, predictions, output_dict=True))\n",
    "    mlflow.sklearn.log_model(pipe, \"model\")\n",
    "    mlflow.log_param(\"model\", \"DecisionTreeClassifier\")"
   ]
  },
  {
   "cell_type": "markdown",
   "metadata": {},
   "source": [
    "comparing with mlflow"
   ]
  },
  {
   "cell_type": "code",
   "execution_count": 12,
   "metadata": {},
   "outputs": [],
   "source": [
    "X = df.drop('Outcome', axis=1)\n",
    "y = df['Outcome']\n",
    "X_train, X_test, y_train, y_test = train_test_split(X, y, test_size=0.3, random_state=42)\n",
    "\n",
    "pipe1 = Pipeline([('scaler', StandardScaler()),  ('model', DecisionTreeClassifier())])\n",
    "pipe2 = Pipeline([('scaler', StandardScaler()), ('model', KNeighborsClassifier())])\n",
    "pipe3 = Pipeline([('scaler', StandardScaler()), ('model', RandomForestClassifier())])\n",
    "pipe4 = Pipeline([('scaler', StandardScaler()), ('model', SVC())])"
   ]
  },
  {
   "cell_type": "code",
   "execution_count": 20,
   "metadata": {},
   "outputs": [],
   "source": [
    "def train_n_log_model(model, model_name):\n",
    "    mlflow.set_experiment(\"Diabetes Classification\")\n",
    "    with mlflow.start_run():\n",
    "        model.fit(X_train, y_train)\n",
    "        ypred = model.predict(X_test)\n",
    "        signature = infer_signature(X_test, ypred)\n",
    "        eval_report = classification_report(y_test, ypred, output_dict=True)\n",
    "        mlflow.log_param(\"model\", model_name)\n",
    "        mlflow.log_metric(\"accuracy\", eval_report['accuracy'])\n",
    "        mlflow.log_metric(\"recall\", eval_report['weighted avg']['recall'])\n",
    "        mlflow.log_metric(\"precision\", eval_report['weighted avg']['precision'])\n",
    "        mlflow.log_metric(\"f1-score\", eval_report['weighted avg']['f1-score'])\n",
    "        mlflow.sklearn.log_model(model, model_name, signature=signature)"
   ]
  },
  {
   "cell_type": "code",
   "execution_count": 21,
   "metadata": {},
   "outputs": [
    {
     "name": "stderr",
     "output_type": "stream",
     "text": [
      "2024/10/05 15:46:05 INFO mlflow.tracking.fluent: Experiment with name 'Diabetes Classification' does not exist. Creating a new experiment.\n",
      "c:\\Users\\ZAID\\miniconda3\\Lib\\site-packages\\mlflow\\types\\utils.py:407: UserWarning: Hint: Inferred schema contains integer column(s). Integer columns in Python cannot represent missing values. If your input data contains missing values at inference time, it will be encoded as floats and will cause a schema enforcement error. The best way to avoid this problem is to infer the model schema based on a realistic data sample (training dataset) that includes missing values. Alternatively, you can declare integer columns as doubles (float64) whenever these columns may have missing values. See `Handling Integers With Missing Values <https://www.mlflow.org/docs/latest/models.html#handling-integers-with-missing-values>`_ for more details.\n",
      "  warnings.warn(\n",
      "c:\\Users\\ZAID\\miniconda3\\Lib\\site-packages\\mlflow\\types\\utils.py:407: UserWarning: Hint: Inferred schema contains integer column(s). Integer columns in Python cannot represent missing values. If your input data contains missing values at inference time, it will be encoded as floats and will cause a schema enforcement error. The best way to avoid this problem is to infer the model schema based on a realistic data sample (training dataset) that includes missing values. Alternatively, you can declare integer columns as doubles (float64) whenever these columns may have missing values. See `Handling Integers With Missing Values <https://www.mlflow.org/docs/latest/models.html#handling-integers-with-missing-values>`_ for more details.\n",
      "  warnings.warn(\n",
      "c:\\Users\\ZAID\\miniconda3\\Lib\\site-packages\\mlflow\\types\\utils.py:407: UserWarning: Hint: Inferred schema contains integer column(s). Integer columns in Python cannot represent missing values. If your input data contains missing values at inference time, it will be encoded as floats and will cause a schema enforcement error. The best way to avoid this problem is to infer the model schema based on a realistic data sample (training dataset) that includes missing values. Alternatively, you can declare integer columns as doubles (float64) whenever these columns may have missing values. See `Handling Integers With Missing Values <https://www.mlflow.org/docs/latest/models.html#handling-integers-with-missing-values>`_ for more details.\n",
      "  warnings.warn(\n",
      "c:\\Users\\ZAID\\miniconda3\\Lib\\site-packages\\mlflow\\types\\utils.py:407: UserWarning: Hint: Inferred schema contains integer column(s). Integer columns in Python cannot represent missing values. If your input data contains missing values at inference time, it will be encoded as floats and will cause a schema enforcement error. The best way to avoid this problem is to infer the model schema based on a realistic data sample (training dataset) that includes missing values. Alternatively, you can declare integer columns as doubles (float64) whenever these columns may have missing values. See `Handling Integers With Missing Values <https://www.mlflow.org/docs/latest/models.html#handling-integers-with-missing-values>`_ for more details.\n",
      "  warnings.warn(\n"
     ]
    }
   ],
   "source": [
    "train_n_log_model(pipe1, \"DecisionTreeClassifier\")\n",
    "train_n_log_model(pipe2, \"KNeighborsClassifier\")\n",
    "train_n_log_model(pipe3, \"RandomForestClassifier\")\n",
    "train_n_log_model(pipe4, \"SVC\")"
   ]
  },
  {
   "cell_type": "code",
   "execution_count": null,
   "metadata": {},
   "outputs": [],
   "source": []
  }
 ],
 "metadata": {
  "kernelspec": {
   "display_name": "base",
   "language": "python",
   "name": "python3"
  },
  "language_info": {
   "codemirror_mode": {
    "name": "ipython",
    "version": 3
   },
   "file_extension": ".py",
   "mimetype": "text/x-python",
   "name": "python",
   "nbconvert_exporter": "python",
   "pygments_lexer": "ipython3",
   "version": "3.12.2"
  }
 },
 "nbformat": 4,
 "nbformat_minor": 2
}
