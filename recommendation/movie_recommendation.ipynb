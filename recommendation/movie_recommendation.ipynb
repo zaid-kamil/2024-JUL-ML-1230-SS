{
 "cells": [
  {
   "cell_type": "code",
   "execution_count": 1,
   "metadata": {},
   "outputs": [],
   "source": [
    "import pandas as pd\n",
    "import numpy as np"
   ]
  },
  {
   "cell_type": "code",
   "execution_count": null,
   "metadata": {},
   "outputs": [],
   "source": [
    "url = '../datasets/imdb_movies.csv'\n",
    "df = pd.read_csv(url)\n",
    "df"
   ]
  },
  {
   "cell_type": "code",
   "execution_count": null,
   "metadata": {},
   "outputs": [],
   "source": [
    "df.shape"
   ]
  },
  {
   "cell_type": "code",
   "execution_count": null,
   "metadata": {},
   "outputs": [],
   "source": [
    "df.isnull().sum()"
   ]
  },
  {
   "cell_type": "code",
   "execution_count": 5,
   "metadata": {},
   "outputs": [],
   "source": [
    "df.orig_lang = df.orig_lang.apply(lambda item: item.strip())"
   ]
  },
  {
   "cell_type": "code",
   "execution_count": null,
   "metadata": {},
   "outputs": [],
   "source": [
    "movies = df[df['orig_lang']=='English'].copy().reset_index(drop=True)\n",
    "movies"
   ]
  },
  {
   "cell_type": "code",
   "execution_count": null,
   "metadata": {},
   "outputs": [],
   "source": [
    "movies['text'] = movies['names'] + ' ' + movies['overview']\n",
    "movies.text"
   ]
  },
  {
   "cell_type": "code",
   "execution_count": 8,
   "metadata": {},
   "outputs": [],
   "source": [
    "from sklearn.feature_extraction.text import TfidfVectorizer\n",
    "from sklearn.metrics.pairwise import cosine_similarity, linear_kernel"
   ]
  },
  {
   "cell_type": "markdown",
   "metadata": {},
   "source": [
    "term frequency inverse document frequency"
   ]
  },
  {
   "cell_type": "code",
   "execution_count": null,
   "metadata": {},
   "outputs": [],
   "source": [
    "vectorizer = TfidfVectorizer(stop_words='english')\n",
    "X = movies['text']\n",
    "matrix = vectorizer.fit_transform(X)\n",
    "sim = cosine_similarity(matrix, matrix)\n",
    "sim.shape"
   ]
  },
  {
   "cell_type": "code",
   "execution_count": null,
   "metadata": {},
   "outputs": [],
   "source": [
    "matrix.shape"
   ]
  },
  {
   "cell_type": "markdown",
   "metadata": {},
   "source": [
    "save data"
   ]
  },
  {
   "cell_type": "code",
   "execution_count": 13,
   "metadata": {},
   "outputs": [],
   "source": [
    "from joblib import load, dump\n",
    "\n",
    "with open('sim_mat.jb', 'wb') as f:\n",
    "    dump(sim, f)\n",
    "with open('movies.jb', 'wb') as f:\n",
    "    dump(movies, f)"
   ]
  },
  {
   "cell_type": "code",
   "execution_count": 2,
   "metadata": {},
   "outputs": [
    {
     "name": "stdout",
     "output_type": "stream",
     "text": [
      "540\n",
      "[0.32987108 0.26646954 0.21877681 0.2070401  0.17598983 0.15430987\n",
      " 0.15005643 0.12842034 0.12508041 0.10879666]\n",
      "[ 298 2502 3267 1545 5387 4082 1419   53 3199 4305]\n",
      "['The Matrix Resurrections', 'Commando', 'The Animatrix', 'The Matrix Reloaded', 'Hackers', 'The Transformers: The Movie', 'The Matrix Revolutions', 'Avatar', 'Transcendence', 'Werewolf: The Beast Among Us']\n"
     ]
    }
   ],
   "source": [
    "from joblib import load\n",
    "movies = load('movies.jb')\n",
    "sim = load('sim_mat.jb')\n",
    "# search similar movies\n",
    "movie_name = 'The Matrix'\n",
    "n = 10\n",
    "idx = movies[movies['names']==movie_name].index[0]\n",
    "print(idx)\n",
    "print(np.sort(sim[idx])[::-1][1:n+1])\n",
    "print(np.argsort(sim[idx])[::-1][1:n+1])\n",
    "# getting the names\n",
    "result_idxs = np.argsort(sim[idx])[::-1][1:n+1]\n",
    "titles = [movies.iloc[idx].names for idx in result_idxs]\n",
    "print(titles)\n"
   ]
  },
  {
   "cell_type": "code",
   "execution_count": null,
   "metadata": {},
   "outputs": [],
   "source": []
  },
  {
   "cell_type": "code",
   "execution_count": null,
   "metadata": {},
   "outputs": [],
   "source": []
  }
 ],
 "metadata": {
  "kernelspec": {
   "display_name": "base",
   "language": "python",
   "name": "python3"
  },
  "language_info": {
   "codemirror_mode": {
    "name": "ipython",
    "version": 3
   },
   "file_extension": ".py",
   "mimetype": "text/x-python",
   "name": "python",
   "nbconvert_exporter": "python",
   "pygments_lexer": "ipython3",
   "version": "3.12.2"
  }
 },
 "nbformat": 4,
 "nbformat_minor": 2
}
