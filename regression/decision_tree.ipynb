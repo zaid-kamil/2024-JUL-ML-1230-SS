{
 "cells": [
  {
   "cell_type": "code",
   "execution_count": null,
   "metadata": {},
   "outputs": [],
   "source": [
    "import pandas as pd\n",
    "import numpy as np\n",
    "import matplotlib.pyplot as plt\n",
    "import seaborn as sns\n",
    "import plotly.express as px"
   ]
  },
  {
   "cell_type": "code",
   "execution_count": null,
   "metadata": {},
   "outputs": [],
   "source": [
    "df = pd.read_csv(\"https://raw.githubusercontent.com/digipodium/Datasets/main/regression/house_pricing.csv\")\n",
    "df.head()"
   ]
  },
  {
   "cell_type": "code",
   "execution_count": null,
   "metadata": {},
   "outputs": [],
   "source": [
    "df.isnull().sum()"
   ]
  },
  {
   "cell_type": "code",
   "execution_count": null,
   "metadata": {},
   "outputs": [],
   "source": [
    "df.nunique()"
   ]
  },
  {
   "cell_type": "code",
   "execution_count": null,
   "metadata": {},
   "outputs": [],
   "source": [
    "sns.boxplot(data=df, x='City', y='Price')\n",
    "plt.xticks(rotation=90)\n",
    "plt.show()"
   ]
  },
  {
   "cell_type": "code",
   "execution_count": null,
   "metadata": {},
   "outputs": [],
   "source": [
    "sns.boxplot(data=df, x='Type', y='Price')\n",
    "plt.xticks(rotation=90)\n",
    "plt.show()"
   ]
  },
  {
   "cell_type": "code",
   "execution_count": null,
   "metadata": {},
   "outputs": [],
   "source": [
    "sns.boxplot(data=df, x='Beds', y='Price')\n",
    "plt.show()"
   ]
  },
  {
   "cell_type": "code",
   "execution_count": null,
   "metadata": {},
   "outputs": [],
   "source": [
    "sns.boxplot(data=df, x='Baths', y='Price')\n",
    "plt.show()"
   ]
  },
  {
   "cell_type": "code",
   "execution_count": null,
   "metadata": {},
   "outputs": [],
   "source": [
    "sns.regplot(data=df, x='SquareFeet', y='Price')"
   ]
  },
  {
   "cell_type": "markdown",
   "metadata": {},
   "source": [
    "# pipeline"
   ]
  },
  {
   "cell_type": "code",
   "execution_count": null,
   "metadata": {},
   "outputs": [],
   "source": [
    "from sklearn.model_selection import train_test_split\n",
    "from sklearn.metrics import r2_score, mean_absolute_error, mean_squared_error\n",
    "from sklearn.tree import DecisionTreeRegressor\n",
    "from sklearn.pipeline import Pipeline\n",
    "from sklearn.preprocessing import StandardScaler, OneHotEncoder\n",
    "from sklearn.compose import ColumnTransformer"
   ]
  },
  {
   "cell_type": "code",
   "execution_count": null,
   "metadata": {},
   "outputs": [],
   "source": [
    "text_cols = ['Type']\n",
    "num_cols = ['SquareFeet', 'Beds', 'Baths']\n",
    "\n",
    "X = df[text_cols + num_cols]\n",
    "y = df['Price']"
   ]
  },
  {
   "cell_type": "code",
   "execution_count": null,
   "metadata": {},
   "outputs": [],
   "source": [
    "Xtrain, Xtest, ytrain, ytest = train_test_split(X, y, \n",
    "    test_size=0.2, \n",
    "    random_state=0)\n",
    "cat_pipe = Pipeline(steps=[\n",
    "    ('ohe', OneHotEncoder(drop='first'))\n",
    "])\n",
    "num_pipe = Pipeline(steps=[\n",
    "    ('scaler', StandardScaler())\n",
    "])\n",
    "preprocessor = ColumnTransformer(transformers=[\n",
    "    ('num', num_pipe, num_cols),\n",
    "    ('cat', cat_pipe, text_cols)\n",
    "])\n",
    "model = Pipeline(steps=[\n",
    "    ('preprocessor', preprocessor),\n",
    "    ('reg', DecisionTreeRegressor())\n",
    "])\n",
    "# max_depth\n",
    "scores = []\n",
    "for i in range(2, 20):\n",
    "    model.named_steps['reg'].set_params(max_depth=i)\n",
    "    model.fit(Xtrain, ytrain)\n",
    "    ypred = model.predict(Xtest)\n",
    "    scores.append(r2_score(ytest, ypred))\n",
    "plt.plot(range(2, 20), scores, marker='x', color='red', markeredgecolor='black')\n",
    "plt.vlines(x=4, ymin=min(scores), ymax=max(scores), color='blue', linestyle='--',\n",
    "        alpha=0.5)\n",
    "plt.title('max_depth vs r2_score')\n",
    "plt.xlabel('max_depth')\n",
    "plt.ylabel('r2_score')\n",
    "plt.xticks(range(2, 20))\n",
    "plt.show()"
   ]
  },
  {
   "cell_type": "code",
   "execution_count": null,
   "metadata": {},
   "outputs": [],
   "source": [
    "ypred = model.predict(Xtest)\n",
    "print('R2:', r2_score(ytest, ypred))\n",
    "print('MAE:', mean_absolute_error(ytest, ypred))\n",
    "print('MSE:', mean_squared_error(ytest, ypred))"
   ]
  },
  {
   "cell_type": "markdown",
   "metadata": {},
   "source": [
    "# Grid Search"
   ]
  },
  {
   "cell_type": "code",
   "execution_count": null,
   "metadata": {},
   "outputs": [],
   "source": [
    "from sklearn.model_selection import GridSearchCV"
   ]
  },
  {
   "cell_type": "code",
   "execution_count": null,
   "metadata": {},
   "outputs": [],
   "source": [
    "Xtrain, Xtest, ytrain, ytest = train_test_split(X, y, \n",
    "    test_size=0.2, \n",
    "    random_state=0)\n",
    "cat_pipe = Pipeline(steps=[\n",
    "    ('ohe', OneHotEncoder(drop='first'))\n",
    "])\n",
    "num_pipe = Pipeline(steps=[\n",
    "    ('scaler', StandardScaler())\n",
    "])\n",
    "preprocessor = ColumnTransformer(transformers=[\n",
    "    ('num', num_pipe, num_cols),\n",
    "    ('cat', cat_pipe, text_cols)\n",
    "])\n",
    "model = Pipeline(steps=[\n",
    "    ('preprocessor', preprocessor),\n",
    "    ('reg', DecisionTreeRegressor())\n",
    "])\n",
    "param_grid = {\n",
    "    'reg__criterion': ['sqaured_error', 'friedman_mse', 'absolute_error'],\n",
    "    'reg__max_depth': range(2, 20),\n",
    "    'reg__ccp_alpha': np.linspace(0.0, 0.1, 10)\n",
    "}\n",
    "# neg_mean_squared_error because scoring is opposite of loss\n",
    "grid = GridSearchCV(model, param_grid, \n",
    "                    scoring='r2',\n",
    "                    cv=4, \n",
    "                    verbose=1, \n",
    "                    n_jobs=-1)\n",
    "grid"
   ]
  },
  {
   "cell_type": "code",
   "execution_count": null,
   "metadata": {},
   "outputs": [],
   "source": [
    "grid.fit(X, y)"
   ]
  },
  {
   "cell_type": "code",
   "execution_count": null,
   "metadata": {},
   "outputs": [],
   "source": [
    "results = pd.DataFrame(grid.cv_results_).sort_values('rank_test_score')"
   ]
  },
  {
   "cell_type": "code",
   "execution_count": null,
   "metadata": {},
   "outputs": [],
   "source": [
    "grid.best_params_"
   ]
  },
  {
   "cell_type": "code",
   "execution_count": null,
   "metadata": {},
   "outputs": [],
   "source": [
    "final_model = grid.best_estimator_"
   ]
  },
  {
   "cell_type": "code",
   "execution_count": null,
   "metadata": {},
   "outputs": [],
   "source": [
    "# ypred = final_model.predict(Xtest)\n",
    "# print('R2:', r2_score(ytest, ypred))\n",
    "# print('MAE:', mean_absolute_error(ytest, ypred))\n",
    "# print('MSE:', mean_squared_error(ytest, ypred))"
   ]
  },
  {
   "cell_type": "code",
   "execution_count": null,
   "metadata": {},
   "outputs": [],
   "source": [
    "sns.lineplot(data=results.head(50), x='rank_test_score', y='mean_test_score', marker='o')"
   ]
  },
  {
   "cell_type": "code",
   "execution_count": null,
   "metadata": {},
   "outputs": [],
   "source": [
    "sns.histplot(data=results, x='mean_test_score', bins=20, kde=True)"
   ]
  },
  {
   "cell_type": "code",
   "execution_count": null,
   "metadata": {},
   "outputs": [],
   "source": [
    "from sklearn.tree import plot_tree\n",
    "\n",
    "plt.figure(figsize=(20, 10))\n",
    "plot_tree(final_model.named_steps['reg'], \n",
    "        feature_names=X.columns, \n",
    "        filled=True, \n",
    "        fontsize=10)\n",
    "plt.show()"
   ]
  },
  {
   "cell_type": "markdown",
   "metadata": {},
   "source": [
    "validation_curve and learning curve"
   ]
  },
  {
   "cell_type": "code",
   "execution_count": null,
   "metadata": {},
   "outputs": [],
   "source": [
    "df = pd.read_csv('../datasets/housing.csv')\n",
    "df.columns"
   ]
  },
  {
   "cell_type": "code",
   "execution_count": null,
   "metadata": {},
   "outputs": [],
   "source": [
    "sns.boxplot(data=df, x='ocean_proximity', y='median_house_value')"
   ]
  },
  {
   "cell_type": "code",
   "execution_count": null,
   "metadata": {},
   "outputs": [],
   "source": [
    "X = df.drop(columns=['median_house_value','ocean_proximity'])\n",
    "y = df['median_house_value']"
   ]
  },
  {
   "cell_type": "code",
   "execution_count": null,
   "metadata": {},
   "outputs": [],
   "source": [
    "from sklearn.model_selection import ValidationCurveDisplay\n",
    "max_depths = list(range(2, 25))\n",
    "disp = ValidationCurveDisplay.from_estimator(\n",
    "    DecisionTreeRegressor(),\n",
    "    X,y,\n",
    "    param_name='max_depth',\n",
    "    param_range=max_depths,\n",
    "    scoring='r2',\n",
    "    n_jobs=-1,\n",
    "    std_display_style='errorbar'\n",
    ")"
   ]
  },
  {
   "cell_type": "code",
   "execution_count": null,
   "metadata": {},
   "outputs": [],
   "source": [
    "from sklearn.model_selection import ValidationCurveDisplay\n",
    "max_depths = list(range(2, 25))\n",
    "disp = ValidationCurveDisplay.from_estimator(\n",
    "    DecisionTreeRegressor(),\n",
    "    X,y,\n",
    "    param_name='max_depth',\n",
    "    param_range=max_depths,\n",
    "    scoring='neg_mean_squared_error',\n",
    "    negate_score=True,\n",
    "    n_jobs=-1,\n",
    "    std_display_style='errorbar'\n",
    ")"
   ]
  },
  {
   "cell_type": "code",
   "execution_count": 104,
   "metadata": {},
   "outputs": [
    {
     "data": {
      "image/png": "[encoded data removed]",
      "text/plain": [
       "<Figure size 640x480 with 1 Axes>"
      ]
     },
     "metadata": {},
     "output_type": "display_data"
    }
   ],
   "source": [
    "from sklearn.model_selection import LearningCurveDisplay\n",
    "\n",
    "disp = LearningCurveDisplay.from_estimator(\n",
    "    DecisionTreeRegressor(max_depth=9),\n",
    "    X,y,\n",
    "    scoring='r2',\n",
    "    n_jobs=-1,\n",
    "    train_sizes=np.linspace(0.1, 1.0, 10),\n",
    "    std_display_style='errorbar'\n",
    ")"
   ]
  },
  {
   "cell_type": "code",
   "execution_count": 105,
   "metadata": {},
   "outputs": [],
   "source": [
    "from sklearn.model_selection import learning_curve"
   ]
  },
  {
   "cell_type": "code",
   "execution_count": 112,
   "metadata": {},
   "outputs": [
    {
     "data": {
      "text/plain": [
       "[<matplotlib.lines.Line2D at 0x2227b061190>]"
      ]
     },
     "execution_count": 112,
     "metadata": {},
     "output_type": "execute_result"
    },
    {
     "data": {
      "image/png": "[encoded data removed]",
      "text/plain": [
       "<Figure size 640x480 with 1 Axes>"
      ]
     },
     "metadata": {},
     "output_type": "display_data"
    }
   ],
   "source": [
    "results = learning_curve(\n",
    "    DecisionTreeRegressor(max_depth=9),\n",
    "    X,y,\n",
    "    scoring='r2',\n",
    "    n_jobs=-1,\n",
    "    train_sizes=np.linspace(0.1, 1.0, 10)\n",
    ")\n",
    "\n",
    "train_sizes, train_scores, test_scores = results\n",
    "plt.plot(train_sizes, train_scores.mean(axis=1), marker='o', label='train')\n",
    "plt.plot(train_sizes, test_scores.mean(axis=1), marker='o', label='test')"
   ]
  },
  {
   "cell_type": "code",
   "execution_count": null,
   "metadata": {},
   "outputs": [],
   "source": []
  }
 ],
 "metadata": {
  "kernelspec": {
   "display_name": "base",
   "language": "python",
   "name": "python3"
  },
  "language_info": {
   "codemirror_mode": {
    "name": "ipython",
    "version": 3
   },
   "file_extension": ".py",
   "mimetype": "text/x-python",
   "name": "python",
   "nbconvert_exporter": "python",
   "pygments_lexer": "ipython3",
   "version": "3.12.2"
  }
 },
 "nbformat": 4,
 "nbformat_minor": 2
}
